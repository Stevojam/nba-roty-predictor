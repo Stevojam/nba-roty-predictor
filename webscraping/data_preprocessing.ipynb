{
 "cells": [
  {
   "cell_type": "markdown",
   "metadata": {},
   "source": [
    "# Data collection and preprocessing for ROY prediction\n",
    "\n",
    "This notebook will be used to collect the data from the bref scraper and prepare/clean the data for the EDA."
   ]
  },
  {
   "cell_type": "code",
   "execution_count": 2,
   "metadata": {},
   "outputs": [],
   "source": [
    "import pandas as pd\n",
    "import time\n",
    "from tqdm import tqdm\n",
    "import bref_scraper as bref\n",
    "import os"
   ]
  },
  {
   "cell_type": "markdown",
   "metadata": {},
   "source": [
    "## Data collection - Create historical tables"
   ]
  },
  {
   "cell_type": "code",
   "execution_count": 3,
   "metadata": {},
   "outputs": [],
   "source": [
    "start_year = 1979\n",
    "end_year = 2024\n",
    "cur_dir = os.getcwd()"
   ]
  },
  {
   "cell_type": "code",
   "execution_count": 20,
   "metadata": {},
   "outputs": [],
   "source": [
    "def historical_roy_awards(start_year, end_year):\n",
    "    \"\"\"\n",
    "    Gathers rookie of the year awards data from start year to end year\n",
    "    \"\"\"\n",
    "    years = [year for year in range(start_year, end_year)]\n",
    "    table = []\n",
    "\n",
    "    for year in tqdm(years):\n",
    "        print(f\"Extracting ROY data for {year}\")\n",
    "        roy_awards = bref.extract_roy_awards(year)\n",
    "        if roy_awards is not None:\n",
    "            roy_awards['year'] = year\n",
    "            table.append(roy_awards)\n",
    "\n",
    "        time.sleep(3) #Adding 3 seconds to avoid being blocked \n",
    "\n",
    "    roy = pd.concat(table)\n",
    "\n",
    "    return roy"
   ]
  },
  {
   "cell_type": "code",
   "execution_count": 21,
   "metadata": {},
   "outputs": [
    {
     "name": "stderr",
     "output_type": "stream",
     "text": [
      "  0%|          | 0/45 [00:00<?, ?it/s]"
     ]
    },
    {
     "name": "stdout",
     "output_type": "stream",
     "text": [
      "Extracting ROY data for 1979\n"
     ]
    },
    {
     "name": "stderr",
     "output_type": "stream",
     "text": [
      "  2%|▏         | 1/45 [00:03<02:42,  3.70s/it]"
     ]
    },
    {
     "name": "stdout",
     "output_type": "stream",
     "text": [
      "Extracting ROY data for 1980\n"
     ]
    },
    {
     "name": "stderr",
     "output_type": "stream",
     "text": [
      "  4%|▍         | 2/45 [00:07<02:32,  3.56s/it]"
     ]
    },
    {
     "name": "stdout",
     "output_type": "stream",
     "text": [
      "Extracting ROY data for 1981\n"
     ]
    },
    {
     "name": "stderr",
     "output_type": "stream",
     "text": [
      "  7%|▋         | 3/45 [00:10<02:30,  3.59s/it]"
     ]
    },
    {
     "name": "stdout",
     "output_type": "stream",
     "text": [
      "Extracting ROY data for 1982\n"
     ]
    },
    {
     "name": "stderr",
     "output_type": "stream",
     "text": [
      "  9%|▉         | 4/45 [00:14<02:24,  3.52s/it]"
     ]
    },
    {
     "name": "stdout",
     "output_type": "stream",
     "text": [
      "Extracting ROY data for 1983\n"
     ]
    },
    {
     "name": "stderr",
     "output_type": "stream",
     "text": [
      " 11%|█         | 5/45 [00:17<02:22,  3.56s/it]"
     ]
    },
    {
     "name": "stdout",
     "output_type": "stream",
     "text": [
      "Extracting ROY data for 1984\n"
     ]
    },
    {
     "name": "stderr",
     "output_type": "stream",
     "text": [
      " 13%|█▎        | 6/45 [00:21<02:20,  3.61s/it]"
     ]
    },
    {
     "name": "stdout",
     "output_type": "stream",
     "text": [
      "Extracting ROY data for 1985\n"
     ]
    },
    {
     "name": "stderr",
     "output_type": "stream",
     "text": [
      " 16%|█▌        | 7/45 [00:25<02:19,  3.67s/it]"
     ]
    },
    {
     "name": "stdout",
     "output_type": "stream",
     "text": [
      "Extracting ROY data for 1986\n"
     ]
    },
    {
     "name": "stderr",
     "output_type": "stream",
     "text": [
      " 18%|█▊        | 8/45 [00:28<02:14,  3.65s/it]"
     ]
    },
    {
     "name": "stdout",
     "output_type": "stream",
     "text": [
      "Extracting ROY data for 1987\n"
     ]
    },
    {
     "name": "stderr",
     "output_type": "stream",
     "text": [
      " 20%|██        | 9/45 [00:32<02:12,  3.67s/it]"
     ]
    },
    {
     "name": "stdout",
     "output_type": "stream",
     "text": [
      "Extracting ROY data for 1988\n"
     ]
    },
    {
     "name": "stderr",
     "output_type": "stream",
     "text": [
      " 22%|██▏       | 10/45 [00:36<02:08,  3.66s/it]"
     ]
    },
    {
     "name": "stdout",
     "output_type": "stream",
     "text": [
      "Extracting ROY data for 1989\n"
     ]
    },
    {
     "name": "stderr",
     "output_type": "stream",
     "text": [
      " 24%|██▍       | 11/45 [00:39<02:03,  3.63s/it]"
     ]
    },
    {
     "name": "stdout",
     "output_type": "stream",
     "text": [
      "Extracting ROY data for 1990\n"
     ]
    },
    {
     "name": "stderr",
     "output_type": "stream",
     "text": [
      " 27%|██▋       | 12/45 [00:43<01:58,  3.60s/it]"
     ]
    },
    {
     "name": "stdout",
     "output_type": "stream",
     "text": [
      "Extracting ROY data for 1991\n"
     ]
    },
    {
     "name": "stderr",
     "output_type": "stream",
     "text": [
      " 29%|██▉       | 13/45 [00:46<01:54,  3.58s/it]"
     ]
    },
    {
     "name": "stdout",
     "output_type": "stream",
     "text": [
      "Extracting ROY data for 1992\n"
     ]
    },
    {
     "name": "stderr",
     "output_type": "stream",
     "text": [
      " 31%|███       | 14/45 [00:50<01:53,  3.66s/it]"
     ]
    },
    {
     "name": "stdout",
     "output_type": "stream",
     "text": [
      "Extracting ROY data for 1993\n"
     ]
    },
    {
     "name": "stderr",
     "output_type": "stream",
     "text": [
      " 33%|███▎      | 15/45 [00:54<01:50,  3.70s/it]"
     ]
    },
    {
     "name": "stdout",
     "output_type": "stream",
     "text": [
      "Extracting ROY data for 1994\n"
     ]
    },
    {
     "name": "stderr",
     "output_type": "stream",
     "text": [
      " 36%|███▌      | 16/45 [00:58<01:45,  3.64s/it]"
     ]
    },
    {
     "name": "stdout",
     "output_type": "stream",
     "text": [
      "Extracting ROY data for 1995\n"
     ]
    },
    {
     "name": "stderr",
     "output_type": "stream",
     "text": [
      " 38%|███▊      | 17/45 [01:01<01:41,  3.63s/it]"
     ]
    },
    {
     "name": "stdout",
     "output_type": "stream",
     "text": [
      "Extracting ROY data for 1996\n"
     ]
    },
    {
     "name": "stderr",
     "output_type": "stream",
     "text": [
      " 40%|████      | 18/45 [01:05<01:38,  3.63s/it]"
     ]
    },
    {
     "name": "stdout",
     "output_type": "stream",
     "text": [
      "Extracting ROY data for 1997\n"
     ]
    },
    {
     "name": "stderr",
     "output_type": "stream",
     "text": [
      " 42%|████▏     | 19/45 [01:08<01:34,  3.62s/it]"
     ]
    },
    {
     "name": "stdout",
     "output_type": "stream",
     "text": [
      "Extracting ROY data for 1998\n"
     ]
    },
    {
     "name": "stderr",
     "output_type": "stream",
     "text": [
      " 44%|████▍     | 20/45 [01:12<01:29,  3.58s/it]"
     ]
    },
    {
     "name": "stdout",
     "output_type": "stream",
     "text": [
      "Extracting ROY data for 1999\n"
     ]
    },
    {
     "name": "stderr",
     "output_type": "stream",
     "text": [
      " 47%|████▋     | 21/45 [01:15<01:26,  3.59s/it]"
     ]
    },
    {
     "name": "stdout",
     "output_type": "stream",
     "text": [
      "Extracting ROY data for 2000\n"
     ]
    },
    {
     "name": "stderr",
     "output_type": "stream",
     "text": [
      " 49%|████▉     | 22/45 [01:19<01:21,  3.56s/it]"
     ]
    },
    {
     "name": "stdout",
     "output_type": "stream",
     "text": [
      "Extracting ROY data for 2001\n"
     ]
    },
    {
     "name": "stderr",
     "output_type": "stream",
     "text": [
      " 51%|█████     | 23/45 [01:23<01:19,  3.60s/it]"
     ]
    },
    {
     "name": "stdout",
     "output_type": "stream",
     "text": [
      "Extracting ROY data for 2002\n"
     ]
    },
    {
     "name": "stderr",
     "output_type": "stream",
     "text": [
      " 53%|█████▎    | 24/45 [01:26<01:16,  3.64s/it]"
     ]
    },
    {
     "name": "stdout",
     "output_type": "stream",
     "text": [
      "Extracting ROY data for 2003\n"
     ]
    },
    {
     "name": "stderr",
     "output_type": "stream",
     "text": [
      " 56%|█████▌    | 25/45 [01:30<01:12,  3.61s/it]"
     ]
    },
    {
     "name": "stdout",
     "output_type": "stream",
     "text": [
      "Extracting ROY data for 2004\n"
     ]
    },
    {
     "name": "stderr",
     "output_type": "stream",
     "text": [
      " 58%|█████▊    | 26/45 [01:33<01:08,  3.58s/it]"
     ]
    },
    {
     "name": "stdout",
     "output_type": "stream",
     "text": [
      "Extracting ROY data for 2005\n"
     ]
    },
    {
     "name": "stderr",
     "output_type": "stream",
     "text": [
      " 60%|██████    | 27/45 [01:37<01:04,  3.57s/it]"
     ]
    },
    {
     "name": "stdout",
     "output_type": "stream",
     "text": [
      "Extracting ROY data for 2006\n"
     ]
    },
    {
     "name": "stderr",
     "output_type": "stream",
     "text": [
      " 62%|██████▏   | 28/45 [01:40<01:00,  3.55s/it]"
     ]
    },
    {
     "name": "stdout",
     "output_type": "stream",
     "text": [
      "Extracting ROY data for 2007\n"
     ]
    },
    {
     "name": "stderr",
     "output_type": "stream",
     "text": [
      " 64%|██████▍   | 29/45 [01:44<00:56,  3.55s/it]"
     ]
    },
    {
     "name": "stdout",
     "output_type": "stream",
     "text": [
      "Extracting ROY data for 2008\n"
     ]
    },
    {
     "name": "stderr",
     "output_type": "stream",
     "text": [
      " 67%|██████▋   | 30/45 [01:48<00:52,  3.53s/it]"
     ]
    },
    {
     "name": "stdout",
     "output_type": "stream",
     "text": [
      "Extracting ROY data for 2009\n"
     ]
    },
    {
     "name": "stderr",
     "output_type": "stream",
     "text": [
      " 69%|██████▉   | 31/45 [01:51<00:49,  3.51s/it]"
     ]
    },
    {
     "name": "stdout",
     "output_type": "stream",
     "text": [
      "Extracting ROY data for 2010\n"
     ]
    },
    {
     "name": "stderr",
     "output_type": "stream",
     "text": [
      " 71%|███████   | 32/45 [01:55<00:45,  3.51s/it]"
     ]
    },
    {
     "name": "stdout",
     "output_type": "stream",
     "text": [
      "Extracting ROY data for 2011\n"
     ]
    },
    {
     "name": "stderr",
     "output_type": "stream",
     "text": [
      " 73%|███████▎  | 33/45 [01:58<00:42,  3.51s/it]"
     ]
    },
    {
     "name": "stdout",
     "output_type": "stream",
     "text": [
      "Extracting ROY data for 2012\n"
     ]
    },
    {
     "name": "stderr",
     "output_type": "stream",
     "text": [
      " 76%|███████▌  | 34/45 [02:02<00:39,  3.57s/it]"
     ]
    },
    {
     "name": "stdout",
     "output_type": "stream",
     "text": [
      "Extracting ROY data for 2013\n"
     ]
    },
    {
     "name": "stderr",
     "output_type": "stream",
     "text": [
      " 78%|███████▊  | 35/45 [02:05<00:35,  3.57s/it]"
     ]
    },
    {
     "name": "stdout",
     "output_type": "stream",
     "text": [
      "Extracting ROY data for 2014\n"
     ]
    },
    {
     "name": "stderr",
     "output_type": "stream",
     "text": [
      " 80%|████████  | 36/45 [02:09<00:31,  3.55s/it]"
     ]
    },
    {
     "name": "stdout",
     "output_type": "stream",
     "text": [
      "Extracting ROY data for 2015\n"
     ]
    },
    {
     "name": "stderr",
     "output_type": "stream",
     "text": [
      " 82%|████████▏ | 37/45 [02:12<00:28,  3.56s/it]"
     ]
    },
    {
     "name": "stdout",
     "output_type": "stream",
     "text": [
      "Extracting ROY data for 2016\n"
     ]
    },
    {
     "name": "stderr",
     "output_type": "stream",
     "text": [
      " 84%|████████▍ | 38/45 [02:16<00:24,  3.57s/it]"
     ]
    },
    {
     "name": "stdout",
     "output_type": "stream",
     "text": [
      "Extracting ROY data for 2017\n"
     ]
    },
    {
     "name": "stderr",
     "output_type": "stream",
     "text": [
      " 87%|████████▋ | 39/45 [02:20<00:21,  3.57s/it]"
     ]
    },
    {
     "name": "stdout",
     "output_type": "stream",
     "text": [
      "Extracting ROY data for 2018\n"
     ]
    },
    {
     "name": "stderr",
     "output_type": "stream",
     "text": [
      " 89%|████████▉ | 40/45 [02:23<00:18,  3.61s/it]"
     ]
    },
    {
     "name": "stdout",
     "output_type": "stream",
     "text": [
      "Extracting ROY data for 2019\n"
     ]
    },
    {
     "name": "stderr",
     "output_type": "stream",
     "text": [
      " 91%|█████████ | 41/45 [02:27<00:14,  3.60s/it]"
     ]
    },
    {
     "name": "stdout",
     "output_type": "stream",
     "text": [
      "Extracting ROY data for 2020\n"
     ]
    },
    {
     "name": "stderr",
     "output_type": "stream",
     "text": [
      " 93%|█████████▎| 42/45 [02:32<00:12,  4.15s/it]"
     ]
    },
    {
     "name": "stdout",
     "output_type": "stream",
     "text": [
      "Extracting ROY data for 2021\n"
     ]
    },
    {
     "name": "stderr",
     "output_type": "stream",
     "text": [
      " 96%|█████████▌| 43/45 [02:36<00:07,  4.00s/it]"
     ]
    },
    {
     "name": "stdout",
     "output_type": "stream",
     "text": [
      "Extracting ROY data for 2022\n"
     ]
    },
    {
     "name": "stderr",
     "output_type": "stream",
     "text": [
      " 98%|█████████▊| 44/45 [02:40<00:03,  3.89s/it]"
     ]
    },
    {
     "name": "stdout",
     "output_type": "stream",
     "text": [
      "Extracting ROY data for 2023\n"
     ]
    },
    {
     "name": "stderr",
     "output_type": "stream",
     "text": [
      "100%|██████████| 45/45 [02:43<00:00,  3.64s/it]\n"
     ]
    }
   ],
   "source": [
    "start_year = 1979\n",
    "end_year = 2024\n",
    "\n",
    "roy_table = historical_roy_awards(start_year, end_year)\n",
    "#Extract roy_table to csv\n",
    "cur_dir = os.getcwd()\n",
    "roy_table.to_csv(cur_dir + '/data/history_roy.csv', index = False)\n"
   ]
  },
  {
   "cell_type": "code",
   "execution_count": 5,
   "metadata": {},
   "outputs": [
    {
     "name": "stderr",
     "output_type": "stream",
     "text": [
      "  0%|          | 0/45 [00:00<?, ?it/s]"
     ]
    },
    {
     "name": "stdout",
     "output_type": "stream",
     "text": [
      "Extracting advanced statistics data for 1979\n"
     ]
    },
    {
     "name": "stderr",
     "output_type": "stream",
     "text": [
      "/Users/nlrit3647/Documents/Python/Webscraping/bref_scraper.py:103: FutureWarning: The default value of regex will change from True to False in a future version. In addition, single character regular expressions will *not* be treated as literal strings when regex=True.\n",
      "  advanced_stats['Player'] = advanced_stats['Player'].str.replace('*', '', regex=False)\n",
      "  2%|▏         | 1/45 [00:04<02:58,  4.07s/it]"
     ]
    },
    {
     "name": "stdout",
     "output_type": "stream",
     "text": [
      "Extracting advanced statistics data for 1980\n"
     ]
    },
    {
     "name": "stderr",
     "output_type": "stream",
     "text": [
      "/Users/nlrit3647/Documents/Python/Webscraping/bref_scraper.py:103: FutureWarning: The default value of regex will change from True to False in a future version. In addition, single character regular expressions will *not* be treated as literal strings when regex=True.\n",
      "  advanced_stats['Player'] = advanced_stats['Player'].str.replace('*', '', regex=False)\n",
      "  4%|▍         | 2/45 [00:08<02:54,  4.06s/it]"
     ]
    },
    {
     "name": "stdout",
     "output_type": "stream",
     "text": [
      "Extracting advanced statistics data for 1981\n"
     ]
    },
    {
     "name": "stderr",
     "output_type": "stream",
     "text": [
      "/Users/nlrit3647/Documents/Python/Webscraping/bref_scraper.py:103: FutureWarning: The default value of regex will change from True to False in a future version. In addition, single character regular expressions will *not* be treated as literal strings when regex=True.\n",
      "  advanced_stats['Player'] = advanced_stats['Player'].str.replace('*', '', regex=False)\n",
      "  7%|▋         | 3/45 [00:12<02:49,  4.03s/it]"
     ]
    },
    {
     "name": "stdout",
     "output_type": "stream",
     "text": [
      "Extracting advanced statistics data for 1982\n"
     ]
    },
    {
     "name": "stderr",
     "output_type": "stream",
     "text": [
      "/Users/nlrit3647/Documents/Python/Webscraping/bref_scraper.py:103: FutureWarning: The default value of regex will change from True to False in a future version. In addition, single character regular expressions will *not* be treated as literal strings when regex=True.\n",
      "  advanced_stats['Player'] = advanced_stats['Player'].str.replace('*', '', regex=False)\n",
      "  9%|▉         | 4/45 [00:16<02:46,  4.06s/it]"
     ]
    },
    {
     "name": "stdout",
     "output_type": "stream",
     "text": [
      "Extracting advanced statistics data for 1983\n"
     ]
    },
    {
     "name": "stderr",
     "output_type": "stream",
     "text": [
      "/Users/nlrit3647/Documents/Python/Webscraping/bref_scraper.py:103: FutureWarning: The default value of regex will change from True to False in a future version. In addition, single character regular expressions will *not* be treated as literal strings when regex=True.\n",
      "  advanced_stats['Player'] = advanced_stats['Player'].str.replace('*', '', regex=False)\n",
      " 11%|█         | 5/45 [00:20<02:42,  4.06s/it]"
     ]
    },
    {
     "name": "stdout",
     "output_type": "stream",
     "text": [
      "Extracting advanced statistics data for 1984\n"
     ]
    },
    {
     "name": "stderr",
     "output_type": "stream",
     "text": [
      "/Users/nlrit3647/Documents/Python/Webscraping/bref_scraper.py:103: FutureWarning: The default value of regex will change from True to False in a future version. In addition, single character regular expressions will *not* be treated as literal strings when regex=True.\n",
      "  advanced_stats['Player'] = advanced_stats['Player'].str.replace('*', '', regex=False)\n",
      " 13%|█▎        | 6/45 [00:24<02:38,  4.05s/it]"
     ]
    },
    {
     "name": "stdout",
     "output_type": "stream",
     "text": [
      "Extracting advanced statistics data for 1985\n"
     ]
    },
    {
     "name": "stderr",
     "output_type": "stream",
     "text": [
      "/Users/nlrit3647/Documents/Python/Webscraping/bref_scraper.py:103: FutureWarning: The default value of regex will change from True to False in a future version. In addition, single character regular expressions will *not* be treated as literal strings when regex=True.\n",
      "  advanced_stats['Player'] = advanced_stats['Player'].str.replace('*', '', regex=False)\n",
      " 16%|█▌        | 7/45 [00:28<02:36,  4.11s/it]"
     ]
    },
    {
     "name": "stdout",
     "output_type": "stream",
     "text": [
      "Extracting advanced statistics data for 1986\n"
     ]
    },
    {
     "name": "stderr",
     "output_type": "stream",
     "text": [
      "/Users/nlrit3647/Documents/Python/Webscraping/bref_scraper.py:103: FutureWarning: The default value of regex will change from True to False in a future version. In addition, single character regular expressions will *not* be treated as literal strings when regex=True.\n",
      "  advanced_stats['Player'] = advanced_stats['Player'].str.replace('*', '', regex=False)\n",
      " 18%|█▊        | 8/45 [00:32<02:34,  4.18s/it]"
     ]
    },
    {
     "name": "stdout",
     "output_type": "stream",
     "text": [
      "Extracting advanced statistics data for 1987\n"
     ]
    },
    {
     "name": "stderr",
     "output_type": "stream",
     "text": [
      "/Users/nlrit3647/Documents/Python/Webscraping/bref_scraper.py:103: FutureWarning: The default value of regex will change from True to False in a future version. In addition, single character regular expressions will *not* be treated as literal strings when regex=True.\n",
      "  advanced_stats['Player'] = advanced_stats['Player'].str.replace('*', '', regex=False)\n",
      " 20%|██        | 9/45 [00:36<02:28,  4.12s/it]"
     ]
    },
    {
     "name": "stdout",
     "output_type": "stream",
     "text": [
      "Extracting advanced statistics data for 1988\n"
     ]
    },
    {
     "name": "stderr",
     "output_type": "stream",
     "text": [
      "/Users/nlrit3647/Documents/Python/Webscraping/bref_scraper.py:103: FutureWarning: The default value of regex will change from True to False in a future version. In addition, single character regular expressions will *not* be treated as literal strings when regex=True.\n",
      "  advanced_stats['Player'] = advanced_stats['Player'].str.replace('*', '', regex=False)\n",
      " 22%|██▏       | 10/45 [00:41<02:25,  4.15s/it]"
     ]
    },
    {
     "name": "stdout",
     "output_type": "stream",
     "text": [
      "Extracting advanced statistics data for 1989\n"
     ]
    },
    {
     "name": "stderr",
     "output_type": "stream",
     "text": [
      "/Users/nlrit3647/Documents/Python/Webscraping/bref_scraper.py:103: FutureWarning: The default value of regex will change from True to False in a future version. In addition, single character regular expressions will *not* be treated as literal strings when regex=True.\n",
      "  advanced_stats['Player'] = advanced_stats['Player'].str.replace('*', '', regex=False)\n",
      " 24%|██▍       | 11/45 [00:45<02:22,  4.18s/it]"
     ]
    },
    {
     "name": "stdout",
     "output_type": "stream",
     "text": [
      "Extracting advanced statistics data for 1990\n"
     ]
    },
    {
     "name": "stderr",
     "output_type": "stream",
     "text": [
      "/Users/nlrit3647/Documents/Python/Webscraping/bref_scraper.py:103: FutureWarning: The default value of regex will change from True to False in a future version. In addition, single character regular expressions will *not* be treated as literal strings when regex=True.\n",
      "  advanced_stats['Player'] = advanced_stats['Player'].str.replace('*', '', regex=False)\n",
      " 27%|██▋       | 12/45 [00:49<02:20,  4.25s/it]"
     ]
    },
    {
     "name": "stdout",
     "output_type": "stream",
     "text": [
      "Extracting advanced statistics data for 1991\n"
     ]
    },
    {
     "name": "stderr",
     "output_type": "stream",
     "text": [
      "/Users/nlrit3647/Documents/Python/Webscraping/bref_scraper.py:103: FutureWarning: The default value of regex will change from True to False in a future version. In addition, single character regular expressions will *not* be treated as literal strings when regex=True.\n",
      "  advanced_stats['Player'] = advanced_stats['Player'].str.replace('*', '', regex=False)\n",
      " 29%|██▉       | 13/45 [00:54<02:21,  4.41s/it]"
     ]
    },
    {
     "name": "stdout",
     "output_type": "stream",
     "text": [
      "Extracting advanced statistics data for 1992\n"
     ]
    },
    {
     "name": "stderr",
     "output_type": "stream",
     "text": [
      "/Users/nlrit3647/Documents/Python/Webscraping/bref_scraper.py:103: FutureWarning: The default value of regex will change from True to False in a future version. In addition, single character regular expressions will *not* be treated as literal strings when regex=True.\n",
      "  advanced_stats['Player'] = advanced_stats['Player'].str.replace('*', '', regex=False)\n",
      " 31%|███       | 14/45 [00:58<02:17,  4.43s/it]"
     ]
    },
    {
     "name": "stdout",
     "output_type": "stream",
     "text": [
      "Extracting advanced statistics data for 1993\n"
     ]
    },
    {
     "name": "stderr",
     "output_type": "stream",
     "text": [
      "/Users/nlrit3647/Documents/Python/Webscraping/bref_scraper.py:103: FutureWarning: The default value of regex will change from True to False in a future version. In addition, single character regular expressions will *not* be treated as literal strings when regex=True.\n",
      "  advanced_stats['Player'] = advanced_stats['Player'].str.replace('*', '', regex=False)\n",
      " 33%|███▎      | 15/45 [01:03<02:10,  4.36s/it]"
     ]
    },
    {
     "name": "stdout",
     "output_type": "stream",
     "text": [
      "Extracting advanced statistics data for 1994\n"
     ]
    },
    {
     "name": "stderr",
     "output_type": "stream",
     "text": [
      "/Users/nlrit3647/Documents/Python/Webscraping/bref_scraper.py:103: FutureWarning: The default value of regex will change from True to False in a future version. In addition, single character regular expressions will *not* be treated as literal strings when regex=True.\n",
      "  advanced_stats['Player'] = advanced_stats['Player'].str.replace('*', '', regex=False)\n",
      " 36%|███▌      | 16/45 [01:07<02:05,  4.34s/it]"
     ]
    },
    {
     "name": "stdout",
     "output_type": "stream",
     "text": [
      "Extracting advanced statistics data for 1995\n"
     ]
    },
    {
     "name": "stderr",
     "output_type": "stream",
     "text": [
      "/Users/nlrit3647/Documents/Python/Webscraping/bref_scraper.py:103: FutureWarning: The default value of regex will change from True to False in a future version. In addition, single character regular expressions will *not* be treated as literal strings when regex=True.\n",
      "  advanced_stats['Player'] = advanced_stats['Player'].str.replace('*', '', regex=False)\n",
      " 38%|███▊      | 17/45 [01:12<02:03,  4.42s/it]"
     ]
    },
    {
     "name": "stdout",
     "output_type": "stream",
     "text": [
      "Extracting advanced statistics data for 1996\n"
     ]
    },
    {
     "name": "stderr",
     "output_type": "stream",
     "text": [
      "/Users/nlrit3647/Documents/Python/Webscraping/bref_scraper.py:103: FutureWarning: The default value of regex will change from True to False in a future version. In addition, single character regular expressions will *not* be treated as literal strings when regex=True.\n",
      "  advanced_stats['Player'] = advanced_stats['Player'].str.replace('*', '', regex=False)\n",
      " 40%|████      | 18/45 [01:16<01:58,  4.39s/it]"
     ]
    },
    {
     "name": "stdout",
     "output_type": "stream",
     "text": [
      "Extracting advanced statistics data for 1997\n"
     ]
    },
    {
     "name": "stderr",
     "output_type": "stream",
     "text": [
      "/Users/nlrit3647/Documents/Python/Webscraping/bref_scraper.py:103: FutureWarning: The default value of regex will change from True to False in a future version. In addition, single character regular expressions will *not* be treated as literal strings when regex=True.\n",
      "  advanced_stats['Player'] = advanced_stats['Player'].str.replace('*', '', regex=False)\n",
      " 42%|████▏     | 19/45 [01:20<01:53,  4.38s/it]"
     ]
    },
    {
     "name": "stdout",
     "output_type": "stream",
     "text": [
      "Extracting advanced statistics data for 1998\n"
     ]
    },
    {
     "name": "stderr",
     "output_type": "stream",
     "text": [
      "/Users/nlrit3647/Documents/Python/Webscraping/bref_scraper.py:103: FutureWarning: The default value of regex will change from True to False in a future version. In addition, single character regular expressions will *not* be treated as literal strings when regex=True.\n",
      "  advanced_stats['Player'] = advanced_stats['Player'].str.replace('*', '', regex=False)\n",
      " 44%|████▍     | 20/45 [01:25<01:52,  4.49s/it]"
     ]
    },
    {
     "name": "stdout",
     "output_type": "stream",
     "text": [
      "Extracting advanced statistics data for 1999\n"
     ]
    },
    {
     "name": "stderr",
     "output_type": "stream",
     "text": [
      "/Users/nlrit3647/Documents/Python/Webscraping/bref_scraper.py:103: FutureWarning: The default value of regex will change from True to False in a future version. In addition, single character regular expressions will *not* be treated as literal strings when regex=True.\n",
      "  advanced_stats['Player'] = advanced_stats['Player'].str.replace('*', '', regex=False)\n",
      " 47%|████▋     | 21/45 [01:29<01:46,  4.44s/it]"
     ]
    },
    {
     "name": "stdout",
     "output_type": "stream",
     "text": [
      "Extracting advanced statistics data for 2000\n"
     ]
    },
    {
     "name": "stderr",
     "output_type": "stream",
     "text": [
      "/Users/nlrit3647/Documents/Python/Webscraping/bref_scraper.py:103: FutureWarning: The default value of regex will change from True to False in a future version. In addition, single character regular expressions will *not* be treated as literal strings when regex=True.\n",
      "  advanced_stats['Player'] = advanced_stats['Player'].str.replace('*', '', regex=False)\n",
      " 49%|████▉     | 22/45 [01:34<01:41,  4.41s/it]"
     ]
    },
    {
     "name": "stdout",
     "output_type": "stream",
     "text": [
      "Extracting advanced statistics data for 2001\n"
     ]
    },
    {
     "name": "stderr",
     "output_type": "stream",
     "text": [
      "/Users/nlrit3647/Documents/Python/Webscraping/bref_scraper.py:103: FutureWarning: The default value of regex will change from True to False in a future version. In addition, single character regular expressions will *not* be treated as literal strings when regex=True.\n",
      "  advanced_stats['Player'] = advanced_stats['Player'].str.replace('*', '', regex=False)\n",
      " 51%|█████     | 23/45 [01:38<01:36,  4.37s/it]"
     ]
    },
    {
     "name": "stdout",
     "output_type": "stream",
     "text": [
      "Extracting advanced statistics data for 2002\n"
     ]
    },
    {
     "name": "stderr",
     "output_type": "stream",
     "text": [
      "/Users/nlrit3647/Documents/Python/Webscraping/bref_scraper.py:103: FutureWarning: The default value of regex will change from True to False in a future version. In addition, single character regular expressions will *not* be treated as literal strings when regex=True.\n",
      "  advanced_stats['Player'] = advanced_stats['Player'].str.replace('*', '', regex=False)\n",
      " 53%|█████▎    | 24/45 [01:42<01:31,  4.35s/it]"
     ]
    },
    {
     "name": "stdout",
     "output_type": "stream",
     "text": [
      "Extracting advanced statistics data for 2003\n"
     ]
    },
    {
     "name": "stderr",
     "output_type": "stream",
     "text": [
      "/Users/nlrit3647/Documents/Python/Webscraping/bref_scraper.py:103: FutureWarning: The default value of regex will change from True to False in a future version. In addition, single character regular expressions will *not* be treated as literal strings when regex=True.\n",
      "  advanced_stats['Player'] = advanced_stats['Player'].str.replace('*', '', regex=False)\n",
      " 56%|█████▌    | 25/45 [01:47<01:29,  4.46s/it]"
     ]
    },
    {
     "name": "stdout",
     "output_type": "stream",
     "text": [
      "Extracting advanced statistics data for 2004\n"
     ]
    },
    {
     "name": "stderr",
     "output_type": "stream",
     "text": [
      "/Users/nlrit3647/Documents/Python/Webscraping/bref_scraper.py:103: FutureWarning: The default value of regex will change from True to False in a future version. In addition, single character regular expressions will *not* be treated as literal strings when regex=True.\n",
      "  advanced_stats['Player'] = advanced_stats['Player'].str.replace('*', '', regex=False)\n",
      " 58%|█████▊    | 26/45 [01:51<01:24,  4.47s/it]"
     ]
    },
    {
     "name": "stdout",
     "output_type": "stream",
     "text": [
      "Extracting advanced statistics data for 2005\n"
     ]
    },
    {
     "name": "stderr",
     "output_type": "stream",
     "text": [
      "/Users/nlrit3647/Documents/Python/Webscraping/bref_scraper.py:103: FutureWarning: The default value of regex will change from True to False in a future version. In addition, single character regular expressions will *not* be treated as literal strings when regex=True.\n",
      "  advanced_stats['Player'] = advanced_stats['Player'].str.replace('*', '', regex=False)\n",
      " 60%|██████    | 27/45 [01:56<01:20,  4.50s/it]"
     ]
    },
    {
     "name": "stdout",
     "output_type": "stream",
     "text": [
      "Extracting advanced statistics data for 2006\n"
     ]
    },
    {
     "name": "stderr",
     "output_type": "stream",
     "text": [
      "/Users/nlrit3647/Documents/Python/Webscraping/bref_scraper.py:103: FutureWarning: The default value of regex will change from True to False in a future version. In addition, single character regular expressions will *not* be treated as literal strings when regex=True.\n",
      "  advanced_stats['Player'] = advanced_stats['Player'].str.replace('*', '', regex=False)\n",
      " 62%|██████▏   | 28/45 [02:01<01:16,  4.51s/it]"
     ]
    },
    {
     "name": "stdout",
     "output_type": "stream",
     "text": [
      "Extracting advanced statistics data for 2007\n"
     ]
    },
    {
     "name": "stderr",
     "output_type": "stream",
     "text": [
      "/Users/nlrit3647/Documents/Python/Webscraping/bref_scraper.py:103: FutureWarning: The default value of regex will change from True to False in a future version. In addition, single character regular expressions will *not* be treated as literal strings when regex=True.\n",
      "  advanced_stats['Player'] = advanced_stats['Player'].str.replace('*', '', regex=False)\n",
      " 64%|██████▍   | 29/45 [02:06<01:17,  4.85s/it]"
     ]
    },
    {
     "name": "stdout",
     "output_type": "stream",
     "text": [
      "Extracting advanced statistics data for 2008\n"
     ]
    },
    {
     "name": "stderr",
     "output_type": "stream",
     "text": [
      "/Users/nlrit3647/Documents/Python/Webscraping/bref_scraper.py:103: FutureWarning: The default value of regex will change from True to False in a future version. In addition, single character regular expressions will *not* be treated as literal strings when regex=True.\n",
      "  advanced_stats['Player'] = advanced_stats['Player'].str.replace('*', '', regex=False)\n",
      " 67%|██████▋   | 30/45 [02:11<01:12,  4.82s/it]"
     ]
    },
    {
     "name": "stdout",
     "output_type": "stream",
     "text": [
      "Extracting advanced statistics data for 2009\n"
     ]
    },
    {
     "name": "stderr",
     "output_type": "stream",
     "text": [
      "/Users/nlrit3647/Documents/Python/Webscraping/bref_scraper.py:103: FutureWarning: The default value of regex will change from True to False in a future version. In addition, single character regular expressions will *not* be treated as literal strings when regex=True.\n",
      "  advanced_stats['Player'] = advanced_stats['Player'].str.replace('*', '', regex=False)\n",
      " 69%|██████▉   | 31/45 [02:15<01:05,  4.70s/it]"
     ]
    },
    {
     "name": "stdout",
     "output_type": "stream",
     "text": [
      "Extracting advanced statistics data for 2010\n"
     ]
    },
    {
     "name": "stderr",
     "output_type": "stream",
     "text": [
      "/Users/nlrit3647/Documents/Python/Webscraping/bref_scraper.py:103: FutureWarning: The default value of regex will change from True to False in a future version. In addition, single character regular expressions will *not* be treated as literal strings when regex=True.\n",
      "  advanced_stats['Player'] = advanced_stats['Player'].str.replace('*', '', regex=False)\n",
      " 71%|███████   | 32/45 [02:20<00:59,  4.58s/it]"
     ]
    },
    {
     "name": "stdout",
     "output_type": "stream",
     "text": [
      "Extracting advanced statistics data for 2011\n"
     ]
    },
    {
     "name": "stderr",
     "output_type": "stream",
     "text": [
      "/Users/nlrit3647/Documents/Python/Webscraping/bref_scraper.py:103: FutureWarning: The default value of regex will change from True to False in a future version. In addition, single character regular expressions will *not* be treated as literal strings when regex=True.\n",
      "  advanced_stats['Player'] = advanced_stats['Player'].str.replace('*', '', regex=False)\n",
      " 73%|███████▎  | 33/45 [02:24<00:54,  4.57s/it]"
     ]
    },
    {
     "name": "stdout",
     "output_type": "stream",
     "text": [
      "Extracting advanced statistics data for 2012\n"
     ]
    },
    {
     "name": "stderr",
     "output_type": "stream",
     "text": [
      "/Users/nlrit3647/Documents/Python/Webscraping/bref_scraper.py:103: FutureWarning: The default value of regex will change from True to False in a future version. In addition, single character regular expressions will *not* be treated as literal strings when regex=True.\n",
      "  advanced_stats['Player'] = advanced_stats['Player'].str.replace('*', '', regex=False)\n",
      " 76%|███████▌  | 34/45 [02:29<00:50,  4.57s/it]"
     ]
    },
    {
     "name": "stdout",
     "output_type": "stream",
     "text": [
      "Extracting advanced statistics data for 2013\n"
     ]
    },
    {
     "name": "stderr",
     "output_type": "stream",
     "text": [
      "/Users/nlrit3647/Documents/Python/Webscraping/bref_scraper.py:103: FutureWarning: The default value of regex will change from True to False in a future version. In addition, single character regular expressions will *not* be treated as literal strings when regex=True.\n",
      "  advanced_stats['Player'] = advanced_stats['Player'].str.replace('*', '', regex=False)\n",
      " 78%|███████▊  | 35/45 [02:33<00:45,  4.55s/it]"
     ]
    },
    {
     "name": "stdout",
     "output_type": "stream",
     "text": [
      "Extracting advanced statistics data for 2014\n"
     ]
    },
    {
     "name": "stderr",
     "output_type": "stream",
     "text": [
      "/Users/nlrit3647/Documents/Python/Webscraping/bref_scraper.py:103: FutureWarning: The default value of regex will change from True to False in a future version. In addition, single character regular expressions will *not* be treated as literal strings when regex=True.\n",
      "  advanced_stats['Player'] = advanced_stats['Player'].str.replace('*', '', regex=False)\n",
      " 80%|████████  | 36/45 [02:38<00:40,  4.53s/it]"
     ]
    },
    {
     "name": "stdout",
     "output_type": "stream",
     "text": [
      "Extracting advanced statistics data for 2015\n"
     ]
    },
    {
     "name": "stderr",
     "output_type": "stream",
     "text": [
      "/Users/nlrit3647/Documents/Python/Webscraping/bref_scraper.py:103: FutureWarning: The default value of regex will change from True to False in a future version. In addition, single character regular expressions will *not* be treated as literal strings when regex=True.\n",
      "  advanced_stats['Player'] = advanced_stats['Player'].str.replace('*', '', regex=False)\n",
      " 82%|████████▏ | 37/45 [02:42<00:36,  4.51s/it]"
     ]
    },
    {
     "name": "stdout",
     "output_type": "stream",
     "text": [
      "Extracting advanced statistics data for 2016\n"
     ]
    },
    {
     "name": "stderr",
     "output_type": "stream",
     "text": [
      "/Users/nlrit3647/Documents/Python/Webscraping/bref_scraper.py:103: FutureWarning: The default value of regex will change from True to False in a future version. In addition, single character regular expressions will *not* be treated as literal strings when regex=True.\n",
      "  advanced_stats['Player'] = advanced_stats['Player'].str.replace('*', '', regex=False)\n",
      " 84%|████████▍ | 38/45 [02:47<00:31,  4.50s/it]"
     ]
    },
    {
     "name": "stdout",
     "output_type": "stream",
     "text": [
      "Extracting advanced statistics data for 2017\n"
     ]
    },
    {
     "name": "stderr",
     "output_type": "stream",
     "text": [
      "/Users/nlrit3647/Documents/Python/Webscraping/bref_scraper.py:103: FutureWarning: The default value of regex will change from True to False in a future version. In addition, single character regular expressions will *not* be treated as literal strings when regex=True.\n",
      "  advanced_stats['Player'] = advanced_stats['Player'].str.replace('*', '', regex=False)\n",
      " 87%|████████▋ | 39/45 [02:51<00:27,  4.52s/it]"
     ]
    },
    {
     "name": "stdout",
     "output_type": "stream",
     "text": [
      "Extracting advanced statistics data for 2018\n"
     ]
    },
    {
     "name": "stderr",
     "output_type": "stream",
     "text": [
      "/Users/nlrit3647/Documents/Python/Webscraping/bref_scraper.py:103: FutureWarning: The default value of regex will change from True to False in a future version. In addition, single character regular expressions will *not* be treated as literal strings when regex=True.\n",
      "  advanced_stats['Player'] = advanced_stats['Player'].str.replace('*', '', regex=False)\n",
      " 89%|████████▉ | 40/45 [02:56<00:22,  4.53s/it]"
     ]
    },
    {
     "name": "stdout",
     "output_type": "stream",
     "text": [
      "Extracting advanced statistics data for 2019\n"
     ]
    },
    {
     "name": "stderr",
     "output_type": "stream",
     "text": [
      "/Users/nlrit3647/Documents/Python/Webscraping/bref_scraper.py:103: FutureWarning: The default value of regex will change from True to False in a future version. In addition, single character regular expressions will *not* be treated as literal strings when regex=True.\n",
      "  advanced_stats['Player'] = advanced_stats['Player'].str.replace('*', '', regex=False)\n",
      " 91%|█████████ | 41/45 [03:01<00:18,  4.60s/it]"
     ]
    },
    {
     "name": "stdout",
     "output_type": "stream",
     "text": [
      "Extracting advanced statistics data for 2020\n"
     ]
    },
    {
     "name": "stderr",
     "output_type": "stream",
     "text": [
      "/Users/nlrit3647/Documents/Python/Webscraping/bref_scraper.py:103: FutureWarning: The default value of regex will change from True to False in a future version. In addition, single character regular expressions will *not* be treated as literal strings when regex=True.\n",
      "  advanced_stats['Player'] = advanced_stats['Player'].str.replace('*', '', regex=False)\n",
      " 93%|█████████▎| 42/45 [03:05<00:13,  4.60s/it]"
     ]
    },
    {
     "name": "stdout",
     "output_type": "stream",
     "text": [
      "Extracting advanced statistics data for 2021\n"
     ]
    },
    {
     "name": "stderr",
     "output_type": "stream",
     "text": [
      "/Users/nlrit3647/Documents/Python/Webscraping/bref_scraper.py:103: FutureWarning: The default value of regex will change from True to False in a future version. In addition, single character regular expressions will *not* be treated as literal strings when regex=True.\n",
      "  advanced_stats['Player'] = advanced_stats['Player'].str.replace('*', '', regex=False)\n",
      " 96%|█████████▌| 43/45 [03:10<00:09,  4.69s/it]"
     ]
    },
    {
     "name": "stdout",
     "output_type": "stream",
     "text": [
      "Extracting advanced statistics data for 2022\n"
     ]
    },
    {
     "name": "stderr",
     "output_type": "stream",
     "text": [
      "/Users/nlrit3647/Documents/Python/Webscraping/bref_scraper.py:103: FutureWarning: The default value of regex will change from True to False in a future version. In addition, single character regular expressions will *not* be treated as literal strings when regex=True.\n",
      "  advanced_stats['Player'] = advanced_stats['Player'].str.replace('*', '', regex=False)\n",
      " 98%|█████████▊| 44/45 [03:15<00:04,  4.89s/it]"
     ]
    },
    {
     "name": "stdout",
     "output_type": "stream",
     "text": [
      "Extracting advanced statistics data for 2023\n"
     ]
    },
    {
     "name": "stderr",
     "output_type": "stream",
     "text": [
      "/Users/nlrit3647/Documents/Python/Webscraping/bref_scraper.py:103: FutureWarning: The default value of regex will change from True to False in a future version. In addition, single character regular expressions will *not* be treated as literal strings when regex=True.\n",
      "  advanced_stats['Player'] = advanced_stats['Player'].str.replace('*', '', regex=False)\n",
      "100%|██████████| 45/45 [03:21<00:00,  4.48s/it]\n"
     ]
    }
   ],
   "source": [
    "def historical_advanced_stats(start_year, end_year):\n",
    "    \"\"\"\n",
    "    Gathers advanced statistics data from start year to end year\n",
    "    \"\"\"\n",
    "    years = [year for year in range(start_year, end_year)]\n",
    "    table = []\n",
    "\n",
    "    for year in tqdm(years):\n",
    "        print(f\"Extracting advanced statistics data for {year}\")\n",
    "        advanced_stats_table= bref.extract_advanced_stats(year)\n",
    "        if advanced_stats_table is not None:\n",
    "            advanced_stats_table['year'] = year\n",
    "            table.append(advanced_stats_table)\n",
    "        \n",
    "        time.sleep(3) #Adding 3 seconds to avoid being blocked \n",
    "\n",
    "    advanced_stats = pd.concat(table)\n",
    "\n",
    "    return advanced_stats\n",
    "\n",
    "start_year = 1979\n",
    "end_year = 2024\n",
    "\n",
    "history_advanced_stats = historical_advanced_stats(start_year, end_year)\n",
    "# Store as csv\n",
    "history_advanced_stats.to_csv(cur_dir + '/data/history_advanced_stats.csv', index = False)\n",
    "    "
   ]
  },
  {
   "cell_type": "code",
   "execution_count": 6,
   "metadata": {},
   "outputs": [
    {
     "data": {
      "text/html": [
       "<div>\n",
       "<style scoped>\n",
       "    .dataframe tbody tr th:only-of-type {\n",
       "        vertical-align: middle;\n",
       "    }\n",
       "\n",
       "    .dataframe tbody tr th {\n",
       "        vertical-align: top;\n",
       "    }\n",
       "\n",
       "    .dataframe thead th {\n",
       "        text-align: right;\n",
       "    }\n",
       "</style>\n",
       "<table border=\"1\" class=\"dataframe\">\n",
       "  <thead>\n",
       "    <tr style=\"text-align: right;\">\n",
       "      <th></th>\n",
       "      <th>Rk</th>\n",
       "      <th>Player</th>\n",
       "      <th>Pos</th>\n",
       "      <th>Age</th>\n",
       "      <th>Tm</th>\n",
       "      <th>G</th>\n",
       "      <th>MP</th>\n",
       "      <th>PER</th>\n",
       "      <th>TS%</th>\n",
       "      <th>3PAr</th>\n",
       "      <th>FTr</th>\n",
       "      <th>ORB%</th>\n",
       "      <th>DRB%</th>\n",
       "      <th>TRB%</th>\n",
       "      <th>AST%</th>\n",
       "      <th>STL%</th>\n",
       "      <th>BLK%</th>\n",
       "      <th>TOV%</th>\n",
       "      <th>USG%</th>\n",
       "      <th>OWS</th>\n",
       "      <th>DWS</th>\n",
       "      <th>WS</th>\n",
       "      <th>WS/48</th>\n",
       "      <th>OBPM</th>\n",
       "      <th>DBPM</th>\n",
       "      <th>BPM</th>\n",
       "      <th>VORP</th>\n",
       "      <th>year</th>\n",
       "    </tr>\n",
       "  </thead>\n",
       "  <tbody>\n",
       "    <tr>\n",
       "      <th>291</th>\n",
       "      <td>252</td>\n",
       "      <td>Shaquille O'Neal</td>\n",
       "      <td>C</td>\n",
       "      <td>20</td>\n",
       "      <td>ORL</td>\n",
       "      <td>81</td>\n",
       "      <td>3071</td>\n",
       "      <td>22.9</td>\n",
       "      <td>.584</td>\n",
       "      <td>.002</td>\n",
       "      <td>.553</td>\n",
       "      <td>13.4</td>\n",
       "      <td>27.1</td>\n",
       "      <td>20.6</td>\n",
       "      <td>8.5</td>\n",
       "      <td>1.0</td>\n",
       "      <td>5.7</td>\n",
       "      <td>15.9</td>\n",
       "      <td>27.0</td>\n",
       "      <td>4.5</td>\n",
       "      <td>6.0</td>\n",
       "      <td>10.4</td>\n",
       "      <td>.163</td>\n",
       "      <td>2.0</td>\n",
       "      <td>1.5</td>\n",
       "      <td>3.5</td>\n",
       "      <td>4.3</td>\n",
       "      <td>1993</td>\n",
       "    </tr>\n",
       "    <tr>\n",
       "      <th>340</th>\n",
       "      <td>272</td>\n",
       "      <td>Shaquille O'Neal</td>\n",
       "      <td>C</td>\n",
       "      <td>21</td>\n",
       "      <td>ORL</td>\n",
       "      <td>81</td>\n",
       "      <td>3224</td>\n",
       "      <td>28.5</td>\n",
       "      <td>.605</td>\n",
       "      <td>.001</td>\n",
       "      <td>.534</td>\n",
       "      <td>13.5</td>\n",
       "      <td>23.7</td>\n",
       "      <td>18.7</td>\n",
       "      <td>11.0</td>\n",
       "      <td>1.2</td>\n",
       "      <td>4.5</td>\n",
       "      <td>10.2</td>\n",
       "      <td>29.0</td>\n",
       "      <td>12.1</td>\n",
       "      <td>4.8</td>\n",
       "      <td>16.9</td>\n",
       "      <td>.252</td>\n",
       "      <td>6.2</td>\n",
       "      <td>0.6</td>\n",
       "      <td>6.8</td>\n",
       "      <td>7.2</td>\n",
       "      <td>1994</td>\n",
       "    </tr>\n",
       "    <tr>\n",
       "      <th>309</th>\n",
       "      <td>264</td>\n",
       "      <td>Shaquille O'Neal</td>\n",
       "      <td>C</td>\n",
       "      <td>22</td>\n",
       "      <td>ORL</td>\n",
       "      <td>79</td>\n",
       "      <td>2923</td>\n",
       "      <td>28.6</td>\n",
       "      <td>.588</td>\n",
       "      <td>.003</td>\n",
       "      <td>.536</td>\n",
       "      <td>13.3</td>\n",
       "      <td>21.7</td>\n",
       "      <td>17.6</td>\n",
       "      <td>13.3</td>\n",
       "      <td>1.3</td>\n",
       "      <td>4.5</td>\n",
       "      <td>9.4</td>\n",
       "      <td>31.9</td>\n",
       "      <td>9.6</td>\n",
       "      <td>4.4</td>\n",
       "      <td>14.0</td>\n",
       "      <td>.230</td>\n",
       "      <td>5.6</td>\n",
       "      <td>0.2</td>\n",
       "      <td>5.8</td>\n",
       "      <td>5.7</td>\n",
       "      <td>1995</td>\n",
       "    </tr>\n",
       "    <tr>\n",
       "      <th>353</th>\n",
       "      <td>273</td>\n",
       "      <td>Shaquille O'Neal</td>\n",
       "      <td>C</td>\n",
       "      <td>23</td>\n",
       "      <td>ORL</td>\n",
       "      <td>54</td>\n",
       "      <td>1946</td>\n",
       "      <td>26.4</td>\n",
       "      <td>.570</td>\n",
       "      <td>.002</td>\n",
       "      <td>.495</td>\n",
       "      <td>11.1</td>\n",
       "      <td>24.2</td>\n",
       "      <td>17.8</td>\n",
       "      <td>15.9</td>\n",
       "      <td>0.9</td>\n",
       "      <td>4.4</td>\n",
       "      <td>11.0</td>\n",
       "      <td>32.8</td>\n",
       "      <td>3.9</td>\n",
       "      <td>3.0</td>\n",
       "      <td>6.9</td>\n",
       "      <td>.171</td>\n",
       "      <td>3.5</td>\n",
       "      <td>0.2</td>\n",
       "      <td>3.7</td>\n",
       "      <td>2.8</td>\n",
       "      <td>1996</td>\n",
       "    </tr>\n",
       "    <tr>\n",
       "      <th>394</th>\n",
       "      <td>283</td>\n",
       "      <td>Shaquille O'Neal</td>\n",
       "      <td>C</td>\n",
       "      <td>24</td>\n",
       "      <td>LAL</td>\n",
       "      <td>51</td>\n",
       "      <td>1941</td>\n",
       "      <td>27.1</td>\n",
       "      <td>.556</td>\n",
       "      <td>.004</td>\n",
       "      <td>.483</td>\n",
       "      <td>11.6</td>\n",
       "      <td>25.9</td>\n",
       "      <td>18.8</td>\n",
       "      <td>17.3</td>\n",
       "      <td>1.2</td>\n",
       "      <td>5.8</td>\n",
       "      <td>10.8</td>\n",
       "      <td>31.1</td>\n",
       "      <td>4.1</td>\n",
       "      <td>3.9</td>\n",
       "      <td>8.0</td>\n",
       "      <td>.197</td>\n",
       "      <td>4.7</td>\n",
       "      <td>1.8</td>\n",
       "      <td>6.5</td>\n",
       "      <td>4.1</td>\n",
       "      <td>1997</td>\n",
       "    </tr>\n",
       "    <tr>\n",
       "      <th>343</th>\n",
       "      <td>284</td>\n",
       "      <td>Shaquille O'Neal</td>\n",
       "      <td>C</td>\n",
       "      <td>25</td>\n",
       "      <td>LAL</td>\n",
       "      <td>60</td>\n",
       "      <td>2175</td>\n",
       "      <td>28.8</td>\n",
       "      <td>.587</td>\n",
       "      <td>.000</td>\n",
       "      <td>.594</td>\n",
       "      <td>11.1</td>\n",
       "      <td>24.0</td>\n",
       "      <td>17.7</td>\n",
       "      <td>13.5</td>\n",
       "      <td>0.9</td>\n",
       "      <td>4.6</td>\n",
       "      <td>10.8</td>\n",
       "      <td>32.9</td>\n",
       "      <td>6.7</td>\n",
       "      <td>3.4</td>\n",
       "      <td>10.2</td>\n",
       "      <td>.224</td>\n",
       "      <td>5.7</td>\n",
       "      <td>0.2</td>\n",
       "      <td>5.8</td>\n",
       "      <td>4.3</td>\n",
       "      <td>1998</td>\n",
       "    </tr>\n",
       "    <tr>\n",
       "      <th>344</th>\n",
       "      <td>285</td>\n",
       "      <td>Shaquille O'Neal</td>\n",
       "      <td>C</td>\n",
       "      <td>26</td>\n",
       "      <td>LAL</td>\n",
       "      <td>49</td>\n",
       "      <td>1705</td>\n",
       "      <td>30.6</td>\n",
       "      <td>.584</td>\n",
       "      <td>.001</td>\n",
       "      <td>.563</td>\n",
       "      <td>13.1</td>\n",
       "      <td>22.6</td>\n",
       "      <td>18.0</td>\n",
       "      <td>14.4</td>\n",
       "      <td>1.1</td>\n",
       "      <td>3.5</td>\n",
       "      <td>10.0</td>\n",
       "      <td>32.4</td>\n",
       "      <td>7.2</td>\n",
       "      <td>1.9</td>\n",
       "      <td>9.0</td>\n",
       "      <td>.255</td>\n",
       "      <td>7.5</td>\n",
       "      <td>-0.4</td>\n",
       "      <td>7.1</td>\n",
       "      <td>3.9</td>\n",
       "      <td>1999</td>\n",
       "    </tr>\n",
       "    <tr>\n",
       "      <th>350</th>\n",
       "      <td>294</td>\n",
       "      <td>Shaquille O'Neal</td>\n",
       "      <td>C</td>\n",
       "      <td>27</td>\n",
       "      <td>LAL</td>\n",
       "      <td>79</td>\n",
       "      <td>3163</td>\n",
       "      <td>30.6</td>\n",
       "      <td>.578</td>\n",
       "      <td>.001</td>\n",
       "      <td>.495</td>\n",
       "      <td>11.5</td>\n",
       "      <td>24.8</td>\n",
       "      <td>18.3</td>\n",
       "      <td>19.3</td>\n",
       "      <td>0.6</td>\n",
       "      <td>5.3</td>\n",
       "      <td>9.9</td>\n",
       "      <td>31.2</td>\n",
       "      <td>11.7</td>\n",
       "      <td>7.0</td>\n",
       "      <td>18.6</td>\n",
       "      <td>.283</td>\n",
       "      <td>7.3</td>\n",
       "      <td>2.0</td>\n",
       "      <td>9.3</td>\n",
       "      <td>9.0</td>\n",
       "      <td>2000</td>\n",
       "    </tr>\n",
       "    <tr>\n",
       "      <th>377</th>\n",
       "      <td>295</td>\n",
       "      <td>Shaquille O'Neal</td>\n",
       "      <td>C</td>\n",
       "      <td>28</td>\n",
       "      <td>LAL</td>\n",
       "      <td>74</td>\n",
       "      <td>2924</td>\n",
       "      <td>30.2</td>\n",
       "      <td>.574</td>\n",
       "      <td>.001</td>\n",
       "      <td>.684</td>\n",
       "      <td>11.3</td>\n",
       "      <td>24.8</td>\n",
       "      <td>18.1</td>\n",
       "      <td>18.8</td>\n",
       "      <td>0.8</td>\n",
       "      <td>4.9</td>\n",
       "      <td>10.5</td>\n",
       "      <td>31.6</td>\n",
       "      <td>11.1</td>\n",
       "      <td>3.9</td>\n",
       "      <td>14.9</td>\n",
       "      <td>.245</td>\n",
       "      <td>7.0</td>\n",
       "      <td>0.7</td>\n",
       "      <td>7.7</td>\n",
       "      <td>7.1</td>\n",
       "      <td>2001</td>\n",
       "    </tr>\n",
       "    <tr>\n",
       "      <th>350</th>\n",
       "      <td>299</td>\n",
       "      <td>Shaquille O'Neal</td>\n",
       "      <td>C</td>\n",
       "      <td>29</td>\n",
       "      <td>LAL</td>\n",
       "      <td>67</td>\n",
       "      <td>2422</td>\n",
       "      <td>29.7</td>\n",
       "      <td>.590</td>\n",
       "      <td>.001</td>\n",
       "      <td>.583</td>\n",
       "      <td>10.8</td>\n",
       "      <td>21.6</td>\n",
       "      <td>16.3</td>\n",
       "      <td>16.4</td>\n",
       "      <td>0.9</td>\n",
       "      <td>4.1</td>\n",
       "      <td>10.0</td>\n",
       "      <td>31.8</td>\n",
       "      <td>9.2</td>\n",
       "      <td>4.0</td>\n",
       "      <td>13.2</td>\n",
       "      <td>.262</td>\n",
       "      <td>7.1</td>\n",
       "      <td>0.9</td>\n",
       "      <td>8.0</td>\n",
       "      <td>6.1</td>\n",
       "      <td>2002</td>\n",
       "    </tr>\n",
       "    <tr>\n",
       "      <th>331</th>\n",
       "      <td>280</td>\n",
       "      <td>Shaquille O'Neal</td>\n",
       "      <td>C</td>\n",
       "      <td>30</td>\n",
       "      <td>LAL</td>\n",
       "      <td>67</td>\n",
       "      <td>2535</td>\n",
       "      <td>29.5</td>\n",
       "      <td>.602</td>\n",
       "      <td>.000</td>\n",
       "      <td>.599</td>\n",
       "      <td>11.4</td>\n",
       "      <td>21.6</td>\n",
       "      <td>16.5</td>\n",
       "      <td>16.2</td>\n",
       "      <td>0.8</td>\n",
       "      <td>4.5</td>\n",
       "      <td>11.4</td>\n",
       "      <td>30.2</td>\n",
       "      <td>10.2</td>\n",
       "      <td>3.0</td>\n",
       "      <td>13.2</td>\n",
       "      <td>.250</td>\n",
       "      <td>6.4</td>\n",
       "      <td>0.1</td>\n",
       "      <td>6.5</td>\n",
       "      <td>5.5</td>\n",
       "      <td>2003</td>\n",
       "    </tr>\n",
       "    <tr>\n",
       "      <th>398</th>\n",
       "      <td>297</td>\n",
       "      <td>Shaquille O'Neal</td>\n",
       "      <td>C</td>\n",
       "      <td>31</td>\n",
       "      <td>LAL</td>\n",
       "      <td>67</td>\n",
       "      <td>2464</td>\n",
       "      <td>24.4</td>\n",
       "      <td>.578</td>\n",
       "      <td>.000</td>\n",
       "      <td>.713</td>\n",
       "      <td>11.1</td>\n",
       "      <td>24.4</td>\n",
       "      <td>17.7</td>\n",
       "      <td>14.8</td>\n",
       "      <td>0.7</td>\n",
       "      <td>5.0</td>\n",
       "      <td>13.5</td>\n",
       "      <td>26.3</td>\n",
       "      <td>5.9</td>\n",
       "      <td>4.0</td>\n",
       "      <td>9.9</td>\n",
       "      <td>.192</td>\n",
       "      <td>3.8</td>\n",
       "      <td>1.0</td>\n",
       "      <td>4.8</td>\n",
       "      <td>4.1</td>\n",
       "      <td>2004</td>\n",
       "    </tr>\n",
       "    <tr>\n",
       "      <th>401</th>\n",
       "      <td>310</td>\n",
       "      <td>Shaquille O'Neal</td>\n",
       "      <td>C</td>\n",
       "      <td>32</td>\n",
       "      <td>MIA</td>\n",
       "      <td>73</td>\n",
       "      <td>2492</td>\n",
       "      <td>27.0</td>\n",
       "      <td>.583</td>\n",
       "      <td>.000</td>\n",
       "      <td>.699</td>\n",
       "      <td>12.4</td>\n",
       "      <td>22.8</td>\n",
       "      <td>17.8</td>\n",
       "      <td>15.7</td>\n",
       "      <td>0.8</td>\n",
       "      <td>5.0</td>\n",
       "      <td>12.4</td>\n",
       "      <td>30.5</td>\n",
       "      <td>6.4</td>\n",
       "      <td>4.6</td>\n",
       "      <td>11.0</td>\n",
       "      <td>.211</td>\n",
       "      <td>4.1</td>\n",
       "      <td>1.2</td>\n",
       "      <td>5.3</td>\n",
       "      <td>4.6</td>\n",
       "      <td>2005</td>\n",
       "    </tr>\n",
       "    <tr>\n",
       "      <th>383</th>\n",
       "      <td>303</td>\n",
       "      <td>Shaquille O'Neal</td>\n",
       "      <td>C</td>\n",
       "      <td>33</td>\n",
       "      <td>MIA</td>\n",
       "      <td>59</td>\n",
       "      <td>1806</td>\n",
       "      <td>24.4</td>\n",
       "      <td>.586</td>\n",
       "      <td>.000</td>\n",
       "      <td>.589</td>\n",
       "      <td>11.7</td>\n",
       "      <td>23.1</td>\n",
       "      <td>17.6</td>\n",
       "      <td>12.4</td>\n",
       "      <td>0.7</td>\n",
       "      <td>4.4</td>\n",
       "      <td>14.3</td>\n",
       "      <td>30.0</td>\n",
       "      <td>3.3</td>\n",
       "      <td>2.9</td>\n",
       "      <td>6.2</td>\n",
       "      <td>.164</td>\n",
       "      <td>2.4</td>\n",
       "      <td>0.3</td>\n",
       "      <td>2.7</td>\n",
       "      <td>2.1</td>\n",
       "      <td>2006</td>\n",
       "    </tr>\n",
       "    <tr>\n",
       "      <th>361</th>\n",
       "      <td>305</td>\n",
       "      <td>Shaquille O'Neal</td>\n",
       "      <td>C</td>\n",
       "      <td>34</td>\n",
       "      <td>MIA</td>\n",
       "      <td>40</td>\n",
       "      <td>1135</td>\n",
       "      <td>21.7</td>\n",
       "      <td>.567</td>\n",
       "      <td>.000</td>\n",
       "      <td>.614</td>\n",
       "      <td>10.3</td>\n",
       "      <td>20.3</td>\n",
       "      <td>15.4</td>\n",
       "      <td>14.3</td>\n",
       "      <td>0.4</td>\n",
       "      <td>3.8</td>\n",
       "      <td>13.5</td>\n",
       "      <td>29.4</td>\n",
       "      <td>1.4</td>\n",
       "      <td>1.5</td>\n",
       "      <td>2.8</td>\n",
       "      <td>.119</td>\n",
       "      <td>1.6</td>\n",
       "      <td>0.2</td>\n",
       "      <td>1.7</td>\n",
       "      <td>1.1</td>\n",
       "      <td>2007</td>\n",
       "    </tr>\n",
       "    <tr>\n",
       "      <th>417</th>\n",
       "      <td>305</td>\n",
       "      <td>Shaquille O'Neal</td>\n",
       "      <td>C</td>\n",
       "      <td>35</td>\n",
       "      <td>TOT</td>\n",
       "      <td>61</td>\n",
       "      <td>1748</td>\n",
       "      <td>17.1</td>\n",
       "      <td>.589</td>\n",
       "      <td>.000</td>\n",
       "      <td>.606</td>\n",
       "      <td>11.4</td>\n",
       "      <td>24.8</td>\n",
       "      <td>18.4</td>\n",
       "      <td>9.1</td>\n",
       "      <td>0.9</td>\n",
       "      <td>3.7</td>\n",
       "      <td>20.4</td>\n",
       "      <td>23.5</td>\n",
       "      <td>0.6</td>\n",
       "      <td>2.3</td>\n",
       "      <td>2.8</td>\n",
       "      <td>.078</td>\n",
       "      <td>-1.2</td>\n",
       "      <td>0.2</td>\n",
       "      <td>-1.1</td>\n",
       "      <td>0.4</td>\n",
       "      <td>2008</td>\n",
       "    </tr>\n",
       "    <tr>\n",
       "      <th>418</th>\n",
       "      <td>305</td>\n",
       "      <td>Shaquille O'Neal</td>\n",
       "      <td>C</td>\n",
       "      <td>35</td>\n",
       "      <td>MIA</td>\n",
       "      <td>33</td>\n",
       "      <td>945</td>\n",
       "      <td>17.7</td>\n",
       "      <td>.577</td>\n",
       "      <td>.000</td>\n",
       "      <td>.541</td>\n",
       "      <td>12.4</td>\n",
       "      <td>20.5</td>\n",
       "      <td>16.4</td>\n",
       "      <td>9.4</td>\n",
       "      <td>1.1</td>\n",
       "      <td>4.6</td>\n",
       "      <td>19.4</td>\n",
       "      <td>25.3</td>\n",
       "      <td>0.1</td>\n",
       "      <td>1.0</td>\n",
       "      <td>1.2</td>\n",
       "      <td>.059</td>\n",
       "      <td>-1.4</td>\n",
       "      <td>-0.1</td>\n",
       "      <td>-1.5</td>\n",
       "      <td>0.1</td>\n",
       "      <td>2008</td>\n",
       "    </tr>\n",
       "    <tr>\n",
       "      <th>419</th>\n",
       "      <td>305</td>\n",
       "      <td>Shaquille O'Neal</td>\n",
       "      <td>C</td>\n",
       "      <td>35</td>\n",
       "      <td>PHO</td>\n",
       "      <td>28</td>\n",
       "      <td>803</td>\n",
       "      <td>16.5</td>\n",
       "      <td>.605</td>\n",
       "      <td>.000</td>\n",
       "      <td>.699</td>\n",
       "      <td>10.3</td>\n",
       "      <td>29.8</td>\n",
       "      <td>20.8</td>\n",
       "      <td>8.8</td>\n",
       "      <td>0.8</td>\n",
       "      <td>2.8</td>\n",
       "      <td>21.7</td>\n",
       "      <td>21.3</td>\n",
       "      <td>0.4</td>\n",
       "      <td>1.2</td>\n",
       "      <td>1.7</td>\n",
       "      <td>.100</td>\n",
       "      <td>-1.0</td>\n",
       "      <td>0.4</td>\n",
       "      <td>-0.6</td>\n",
       "      <td>0.3</td>\n",
       "      <td>2008</td>\n",
       "    </tr>\n",
       "    <tr>\n",
       "      <th>417</th>\n",
       "      <td>306</td>\n",
       "      <td>Shaquille O'Neal</td>\n",
       "      <td>C</td>\n",
       "      <td>36</td>\n",
       "      <td>PHO</td>\n",
       "      <td>75</td>\n",
       "      <td>2252</td>\n",
       "      <td>22.3</td>\n",
       "      <td>.623</td>\n",
       "      <td>.001</td>\n",
       "      <td>.617</td>\n",
       "      <td>10.1</td>\n",
       "      <td>22.3</td>\n",
       "      <td>16.4</td>\n",
       "      <td>8.9</td>\n",
       "      <td>1.1</td>\n",
       "      <td>3.5</td>\n",
       "      <td>13.6</td>\n",
       "      <td>24.2</td>\n",
       "      <td>5.6</td>\n",
       "      <td>2.2</td>\n",
       "      <td>7.8</td>\n",
       "      <td>.166</td>\n",
       "      <td>1.9</td>\n",
       "      <td>-0.3</td>\n",
       "      <td>1.7</td>\n",
       "      <td>2.1</td>\n",
       "      <td>2009</td>\n",
       "    </tr>\n",
       "    <tr>\n",
       "      <th>425</th>\n",
       "      <td>312</td>\n",
       "      <td>Shaquille O'Neal</td>\n",
       "      <td>C</td>\n",
       "      <td>37</td>\n",
       "      <td>CLE</td>\n",
       "      <td>53</td>\n",
       "      <td>1240</td>\n",
       "      <td>17.9</td>\n",
       "      <td>.565</td>\n",
       "      <td>.002</td>\n",
       "      <td>.488</td>\n",
       "      <td>9.4</td>\n",
       "      <td>24.0</td>\n",
       "      <td>17.0</td>\n",
       "      <td>11.3</td>\n",
       "      <td>0.6</td>\n",
       "      <td>3.9</td>\n",
       "      <td>15.7</td>\n",
       "      <td>25.1</td>\n",
       "      <td>0.9</td>\n",
       "      <td>2.1</td>\n",
       "      <td>3.1</td>\n",
       "      <td>.119</td>\n",
       "      <td>-1.0</td>\n",
       "      <td>0.8</td>\n",
       "      <td>-0.2</td>\n",
       "      <td>0.6</td>\n",
       "      <td>2010</td>\n",
       "    </tr>\n",
       "    <tr>\n",
       "      <th>445</th>\n",
       "      <td>315</td>\n",
       "      <td>Shaquille O'Neal</td>\n",
       "      <td>C</td>\n",
       "      <td>38</td>\n",
       "      <td>BOS</td>\n",
       "      <td>37</td>\n",
       "      <td>752</td>\n",
       "      <td>17.4</td>\n",
       "      <td>.659</td>\n",
       "      <td>.000</td>\n",
       "      <td>.652</td>\n",
       "      <td>8.3</td>\n",
       "      <td>20.1</td>\n",
       "      <td>14.6</td>\n",
       "      <td>5.9</td>\n",
       "      <td>1.1</td>\n",
       "      <td>4.4</td>\n",
       "      <td>17.8</td>\n",
       "      <td>20.1</td>\n",
       "      <td>1.1</td>\n",
       "      <td>1.6</td>\n",
       "      <td>2.7</td>\n",
       "      <td>.174</td>\n",
       "      <td>-1.7</td>\n",
       "      <td>2.0</td>\n",
       "      <td>0.3</td>\n",
       "      <td>0.4</td>\n",
       "      <td>2011</td>\n",
       "    </tr>\n",
       "    <tr>\n",
       "      <th>256</th>\n",
       "      <td>204</td>\n",
       "      <td>Shaquille Harrison</td>\n",
       "      <td>PG</td>\n",
       "      <td>24</td>\n",
       "      <td>PHO</td>\n",
       "      <td>23</td>\n",
       "      <td>384</td>\n",
       "      <td>15.6</td>\n",
       "      <td>.540</td>\n",
       "      <td>.210</td>\n",
       "      <td>.306</td>\n",
       "      <td>2.5</td>\n",
       "      <td>14.7</td>\n",
       "      <td>8.5</td>\n",
       "      <td>22.2</td>\n",
       "      <td>3.2</td>\n",
       "      <td>1.5</td>\n",
       "      <td>13.5</td>\n",
       "      <td>18.0</td>\n",
       "      <td>0.4</td>\n",
       "      <td>0.4</td>\n",
       "      <td>0.8</td>\n",
       "      <td>.094</td>\n",
       "      <td>-2.3</td>\n",
       "      <td>1.7</td>\n",
       "      <td>-0.7</td>\n",
       "      <td>0.1</td>\n",
       "      <td>2018</td>\n",
       "    </tr>\n",
       "    <tr>\n",
       "      <th>293</th>\n",
       "      <td>215</td>\n",
       "      <td>Shaquille Harrison</td>\n",
       "      <td>SG</td>\n",
       "      <td>25</td>\n",
       "      <td>CHI</td>\n",
       "      <td>73</td>\n",
       "      <td>1430</td>\n",
       "      <td>12.4</td>\n",
       "      <td>.494</td>\n",
       "      <td>.209</td>\n",
       "      <td>.289</td>\n",
       "      <td>2.5</td>\n",
       "      <td>14.5</td>\n",
       "      <td>8.4</td>\n",
       "      <td>14.1</td>\n",
       "      <td>3.0</td>\n",
       "      <td>1.8</td>\n",
       "      <td>11.1</td>\n",
       "      <td>16.5</td>\n",
       "      <td>-0.1</td>\n",
       "      <td>1.6</td>\n",
       "      <td>1.4</td>\n",
       "      <td>.048</td>\n",
       "      <td>-2.8</td>\n",
       "      <td>1.5</td>\n",
       "      <td>-1.3</td>\n",
       "      <td>0.2</td>\n",
       "      <td>2019</td>\n",
       "    </tr>\n",
       "    <tr>\n",
       "      <th>277</th>\n",
       "      <td>206</td>\n",
       "      <td>Shaquille Harrison</td>\n",
       "      <td>SG</td>\n",
       "      <td>26</td>\n",
       "      <td>CHI</td>\n",
       "      <td>43</td>\n",
       "      <td>484</td>\n",
       "      <td>17.8</td>\n",
       "      <td>.559</td>\n",
       "      <td>.255</td>\n",
       "      <td>.303</td>\n",
       "      <td>4.8</td>\n",
       "      <td>15.3</td>\n",
       "      <td>9.8</td>\n",
       "      <td>15.3</td>\n",
       "      <td>3.4</td>\n",
       "      <td>3.7</td>\n",
       "      <td>9.2</td>\n",
       "      <td>18.1</td>\n",
       "      <td>0.7</td>\n",
       "      <td>0.8</td>\n",
       "      <td>1.5</td>\n",
       "      <td>.153</td>\n",
       "      <td>0.4</td>\n",
       "      <td>2.4</td>\n",
       "      <td>2.8</td>\n",
       "      <td>0.6</td>\n",
       "      <td>2020</td>\n",
       "    </tr>\n",
       "    <tr>\n",
       "      <th>282</th>\n",
       "      <td>209</td>\n",
       "      <td>Shaquille Harrison</td>\n",
       "      <td>SG</td>\n",
       "      <td>27</td>\n",
       "      <td>TOT</td>\n",
       "      <td>34</td>\n",
       "      <td>333</td>\n",
       "      <td>6.8</td>\n",
       "      <td>.416</td>\n",
       "      <td>.205</td>\n",
       "      <td>.282</td>\n",
       "      <td>2.4</td>\n",
       "      <td>13.7</td>\n",
       "      <td>8.1</td>\n",
       "      <td>9.5</td>\n",
       "      <td>2.5</td>\n",
       "      <td>1.5</td>\n",
       "      <td>11.1</td>\n",
       "      <td>12.9</td>\n",
       "      <td>-0.2</td>\n",
       "      <td>0.4</td>\n",
       "      <td>0.2</td>\n",
       "      <td>.030</td>\n",
       "      <td>-5.5</td>\n",
       "      <td>1.5</td>\n",
       "      <td>-4.1</td>\n",
       "      <td>-0.2</td>\n",
       "      <td>2021</td>\n",
       "    </tr>\n",
       "    <tr>\n",
       "      <th>283</th>\n",
       "      <td>209</td>\n",
       "      <td>Shaquille Harrison</td>\n",
       "      <td>SG</td>\n",
       "      <td>27</td>\n",
       "      <td>UTA</td>\n",
       "      <td>17</td>\n",
       "      <td>56</td>\n",
       "      <td>6.5</td>\n",
       "      <td>.375</td>\n",
       "      <td>.100</td>\n",
       "      <td>.300</td>\n",
       "      <td>5.9</td>\n",
       "      <td>10.9</td>\n",
       "      <td>8.5</td>\n",
       "      <td>21.5</td>\n",
       "      <td>1.7</td>\n",
       "      <td>0.0</td>\n",
       "      <td>18.1</td>\n",
       "      <td>21.3</td>\n",
       "      <td>-0.1</td>\n",
       "      <td>0.1</td>\n",
       "      <td>0.0</td>\n",
       "      <td>-0.033</td>\n",
       "      <td>-6.4</td>\n",
       "      <td>-0.3</td>\n",
       "      <td>-6.7</td>\n",
       "      <td>-0.1</td>\n",
       "      <td>2021</td>\n",
       "    </tr>\n",
       "    <tr>\n",
       "      <th>284</th>\n",
       "      <td>209</td>\n",
       "      <td>Shaquille Harrison</td>\n",
       "      <td>SG</td>\n",
       "      <td>27</td>\n",
       "      <td>DEN</td>\n",
       "      <td>17</td>\n",
       "      <td>277</td>\n",
       "      <td>6.9</td>\n",
       "      <td>.431</td>\n",
       "      <td>.241</td>\n",
       "      <td>.276</td>\n",
       "      <td>1.6</td>\n",
       "      <td>14.3</td>\n",
       "      <td>8.0</td>\n",
       "      <td>7.1</td>\n",
       "      <td>2.7</td>\n",
       "      <td>1.8</td>\n",
       "      <td>8.4</td>\n",
       "      <td>11.2</td>\n",
       "      <td>-0.1</td>\n",
       "      <td>0.4</td>\n",
       "      <td>0.2</td>\n",
       "      <td>.042</td>\n",
       "      <td>-5.4</td>\n",
       "      <td>1.8</td>\n",
       "      <td>-3.6</td>\n",
       "      <td>-0.1</td>\n",
       "      <td>2021</td>\n",
       "    </tr>\n",
       "    <tr>\n",
       "      <th>304</th>\n",
       "      <td>225</td>\n",
       "      <td>Shaquille Harrison</td>\n",
       "      <td>SG</td>\n",
       "      <td>28</td>\n",
       "      <td>BRK</td>\n",
       "      <td>2</td>\n",
       "      <td>23</td>\n",
       "      <td>4.6</td>\n",
       "      <td>.333</td>\n",
       "      <td>.333</td>\n",
       "      <td>.000</td>\n",
       "      <td>4.9</td>\n",
       "      <td>13.8</td>\n",
       "      <td>9.5</td>\n",
       "      <td>16.6</td>\n",
       "      <td>2.1</td>\n",
       "      <td>3.9</td>\n",
       "      <td>25.0</td>\n",
       "      <td>15.0</td>\n",
       "      <td>-0.1</td>\n",
       "      <td>0.0</td>\n",
       "      <td>0.0</td>\n",
       "      <td>-0.067</td>\n",
       "      <td>-9.0</td>\n",
       "      <td>0.6</td>\n",
       "      <td>-8.3</td>\n",
       "      <td>0.0</td>\n",
       "      <td>2022</td>\n",
       "    </tr>\n",
       "    <tr>\n",
       "      <th>262</th>\n",
       "      <td>198</td>\n",
       "      <td>Shaquille Harrison</td>\n",
       "      <td>SG</td>\n",
       "      <td>29</td>\n",
       "      <td>POR</td>\n",
       "      <td>5</td>\n",
       "      <td>120</td>\n",
       "      <td>17.9</td>\n",
       "      <td>.516</td>\n",
       "      <td>.278</td>\n",
       "      <td>.417</td>\n",
       "      <td>1.0</td>\n",
       "      <td>20.3</td>\n",
       "      <td>10.5</td>\n",
       "      <td>34.9</td>\n",
       "      <td>4.5</td>\n",
       "      <td>1.5</td>\n",
       "      <td>12.3</td>\n",
       "      <td>17.6</td>\n",
       "      <td>0.2</td>\n",
       "      <td>0.2</td>\n",
       "      <td>0.3</td>\n",
       "      <td>.137</td>\n",
       "      <td>-2.5</td>\n",
       "      <td>2.6</td>\n",
       "      <td>0.1</td>\n",
       "      <td>0.1</td>\n",
       "      <td>2023</td>\n",
       "    </tr>\n",
       "  </tbody>\n",
       "</table>\n",
       "</div>"
      ],
      "text/plain": [
       "      Rk              Player Pos Age   Tm   G    MP   PER   TS%  3PAr   FTr  \\\n",
       "291  252    Shaquille O'Neal   C  20  ORL  81  3071  22.9  .584  .002  .553   \n",
       "340  272    Shaquille O'Neal   C  21  ORL  81  3224  28.5  .605  .001  .534   \n",
       "309  264    Shaquille O'Neal   C  22  ORL  79  2923  28.6  .588  .003  .536   \n",
       "353  273    Shaquille O'Neal   C  23  ORL  54  1946  26.4  .570  .002  .495   \n",
       "394  283    Shaquille O'Neal   C  24  LAL  51  1941  27.1  .556  .004  .483   \n",
       "343  284    Shaquille O'Neal   C  25  LAL  60  2175  28.8  .587  .000  .594   \n",
       "344  285    Shaquille O'Neal   C  26  LAL  49  1705  30.6  .584  .001  .563   \n",
       "350  294    Shaquille O'Neal   C  27  LAL  79  3163  30.6  .578  .001  .495   \n",
       "377  295    Shaquille O'Neal   C  28  LAL  74  2924  30.2  .574  .001  .684   \n",
       "350  299    Shaquille O'Neal   C  29  LAL  67  2422  29.7  .590  .001  .583   \n",
       "331  280    Shaquille O'Neal   C  30  LAL  67  2535  29.5  .602  .000  .599   \n",
       "398  297    Shaquille O'Neal   C  31  LAL  67  2464  24.4  .578  .000  .713   \n",
       "401  310    Shaquille O'Neal   C  32  MIA  73  2492  27.0  .583  .000  .699   \n",
       "383  303    Shaquille O'Neal   C  33  MIA  59  1806  24.4  .586  .000  .589   \n",
       "361  305    Shaquille O'Neal   C  34  MIA  40  1135  21.7  .567  .000  .614   \n",
       "417  305    Shaquille O'Neal   C  35  TOT  61  1748  17.1  .589  .000  .606   \n",
       "418  305    Shaquille O'Neal   C  35  MIA  33   945  17.7  .577  .000  .541   \n",
       "419  305    Shaquille O'Neal   C  35  PHO  28   803  16.5  .605  .000  .699   \n",
       "417  306    Shaquille O'Neal   C  36  PHO  75  2252  22.3  .623  .001  .617   \n",
       "425  312    Shaquille O'Neal   C  37  CLE  53  1240  17.9  .565  .002  .488   \n",
       "445  315    Shaquille O'Neal   C  38  BOS  37   752  17.4  .659  .000  .652   \n",
       "256  204  Shaquille Harrison  PG  24  PHO  23   384  15.6  .540  .210  .306   \n",
       "293  215  Shaquille Harrison  SG  25  CHI  73  1430  12.4  .494  .209  .289   \n",
       "277  206  Shaquille Harrison  SG  26  CHI  43   484  17.8  .559  .255  .303   \n",
       "282  209  Shaquille Harrison  SG  27  TOT  34   333   6.8  .416  .205  .282   \n",
       "283  209  Shaquille Harrison  SG  27  UTA  17    56   6.5  .375  .100  .300   \n",
       "284  209  Shaquille Harrison  SG  27  DEN  17   277   6.9  .431  .241  .276   \n",
       "304  225  Shaquille Harrison  SG  28  BRK   2    23   4.6  .333  .333  .000   \n",
       "262  198  Shaquille Harrison  SG  29  POR   5   120  17.9  .516  .278  .417   \n",
       "\n",
       "     ORB%  DRB%  TRB%  AST% STL% BLK%  TOV%  USG%   OWS  DWS    WS   WS/48  \\\n",
       "291  13.4  27.1  20.6   8.5  1.0  5.7  15.9  27.0   4.5  6.0  10.4    .163   \n",
       "340  13.5  23.7  18.7  11.0  1.2  4.5  10.2  29.0  12.1  4.8  16.9    .252   \n",
       "309  13.3  21.7  17.6  13.3  1.3  4.5   9.4  31.9   9.6  4.4  14.0    .230   \n",
       "353  11.1  24.2  17.8  15.9  0.9  4.4  11.0  32.8   3.9  3.0   6.9    .171   \n",
       "394  11.6  25.9  18.8  17.3  1.2  5.8  10.8  31.1   4.1  3.9   8.0    .197   \n",
       "343  11.1  24.0  17.7  13.5  0.9  4.6  10.8  32.9   6.7  3.4  10.2    .224   \n",
       "344  13.1  22.6  18.0  14.4  1.1  3.5  10.0  32.4   7.2  1.9   9.0    .255   \n",
       "350  11.5  24.8  18.3  19.3  0.6  5.3   9.9  31.2  11.7  7.0  18.6    .283   \n",
       "377  11.3  24.8  18.1  18.8  0.8  4.9  10.5  31.6  11.1  3.9  14.9    .245   \n",
       "350  10.8  21.6  16.3  16.4  0.9  4.1  10.0  31.8   9.2  4.0  13.2    .262   \n",
       "331  11.4  21.6  16.5  16.2  0.8  4.5  11.4  30.2  10.2  3.0  13.2    .250   \n",
       "398  11.1  24.4  17.7  14.8  0.7  5.0  13.5  26.3   5.9  4.0   9.9    .192   \n",
       "401  12.4  22.8  17.8  15.7  0.8  5.0  12.4  30.5   6.4  4.6  11.0    .211   \n",
       "383  11.7  23.1  17.6  12.4  0.7  4.4  14.3  30.0   3.3  2.9   6.2    .164   \n",
       "361  10.3  20.3  15.4  14.3  0.4  3.8  13.5  29.4   1.4  1.5   2.8    .119   \n",
       "417  11.4  24.8  18.4   9.1  0.9  3.7  20.4  23.5   0.6  2.3   2.8    .078   \n",
       "418  12.4  20.5  16.4   9.4  1.1  4.6  19.4  25.3   0.1  1.0   1.2    .059   \n",
       "419  10.3  29.8  20.8   8.8  0.8  2.8  21.7  21.3   0.4  1.2   1.7    .100   \n",
       "417  10.1  22.3  16.4   8.9  1.1  3.5  13.6  24.2   5.6  2.2   7.8    .166   \n",
       "425   9.4  24.0  17.0  11.3  0.6  3.9  15.7  25.1   0.9  2.1   3.1    .119   \n",
       "445   8.3  20.1  14.6   5.9  1.1  4.4  17.8  20.1   1.1  1.6   2.7    .174   \n",
       "256   2.5  14.7   8.5  22.2  3.2  1.5  13.5  18.0   0.4  0.4   0.8    .094   \n",
       "293   2.5  14.5   8.4  14.1  3.0  1.8  11.1  16.5  -0.1  1.6   1.4    .048   \n",
       "277   4.8  15.3   9.8  15.3  3.4  3.7   9.2  18.1   0.7  0.8   1.5    .153   \n",
       "282   2.4  13.7   8.1   9.5  2.5  1.5  11.1  12.9  -0.2  0.4   0.2    .030   \n",
       "283   5.9  10.9   8.5  21.5  1.7  0.0  18.1  21.3  -0.1  0.1   0.0  -0.033   \n",
       "284   1.6  14.3   8.0   7.1  2.7  1.8   8.4  11.2  -0.1  0.4   0.2    .042   \n",
       "304   4.9  13.8   9.5  16.6  2.1  3.9  25.0  15.0  -0.1  0.0   0.0  -0.067   \n",
       "262   1.0  20.3  10.5  34.9  4.5  1.5  12.3  17.6   0.2  0.2   0.3    .137   \n",
       "\n",
       "     OBPM  DBPM   BPM  VORP  year  \n",
       "291   2.0   1.5   3.5   4.3  1993  \n",
       "340   6.2   0.6   6.8   7.2  1994  \n",
       "309   5.6   0.2   5.8   5.7  1995  \n",
       "353   3.5   0.2   3.7   2.8  1996  \n",
       "394   4.7   1.8   6.5   4.1  1997  \n",
       "343   5.7   0.2   5.8   4.3  1998  \n",
       "344   7.5  -0.4   7.1   3.9  1999  \n",
       "350   7.3   2.0   9.3   9.0  2000  \n",
       "377   7.0   0.7   7.7   7.1  2001  \n",
       "350   7.1   0.9   8.0   6.1  2002  \n",
       "331   6.4   0.1   6.5   5.5  2003  \n",
       "398   3.8   1.0   4.8   4.1  2004  \n",
       "401   4.1   1.2   5.3   4.6  2005  \n",
       "383   2.4   0.3   2.7   2.1  2006  \n",
       "361   1.6   0.2   1.7   1.1  2007  \n",
       "417  -1.2   0.2  -1.1   0.4  2008  \n",
       "418  -1.4  -0.1  -1.5   0.1  2008  \n",
       "419  -1.0   0.4  -0.6   0.3  2008  \n",
       "417   1.9  -0.3   1.7   2.1  2009  \n",
       "425  -1.0   0.8  -0.2   0.6  2010  \n",
       "445  -1.7   2.0   0.3   0.4  2011  \n",
       "256  -2.3   1.7  -0.7   0.1  2018  \n",
       "293  -2.8   1.5  -1.3   0.2  2019  \n",
       "277   0.4   2.4   2.8   0.6  2020  \n",
       "282  -5.5   1.5  -4.1  -0.2  2021  \n",
       "283  -6.4  -0.3  -6.7  -0.1  2021  \n",
       "284  -5.4   1.8  -3.6  -0.1  2021  \n",
       "304  -9.0   0.6  -8.3   0.0  2022  \n",
       "262  -2.5   2.6   0.1   0.1  2023  "
      ]
     },
     "execution_count": 6,
     "metadata": {},
     "output_type": "execute_result"
    }
   ],
   "source": [
    "history_advanced_stats[history_advanced_stats['Player'].str.contains('Shaquille')]"
   ]
  },
  {
   "cell_type": "code",
   "execution_count": 7,
   "metadata": {},
   "outputs": [
    {
     "name": "stderr",
     "output_type": "stream",
     "text": [
      "  0%|          | 0/45 [00:00<?, ?it/s]"
     ]
    },
    {
     "name": "stdout",
     "output_type": "stream",
     "text": [
      "Extracting standings for 1979\n"
     ]
    },
    {
     "name": "stderr",
     "output_type": "stream",
     "text": [
      "/Users/nlrit3647/Documents/Python/Webscraping/bref_scraper.py:151: FutureWarning: The default value of regex will change from True to False in a future version. In addition, single character regular expressions will *not* be treated as literal strings when regex=True.\n",
      "  standings['TEAM_NAME'] = standings['TEAM_NAME'].str.replace('*', '', regex=False)\n",
      "  2%|▏         | 1/45 [00:03<02:36,  3.55s/it]"
     ]
    },
    {
     "name": "stdout",
     "output_type": "stream",
     "text": [
      "Extracting standings for 1980\n"
     ]
    },
    {
     "name": "stderr",
     "output_type": "stream",
     "text": [
      "/Users/nlrit3647/Documents/Python/Webscraping/bref_scraper.py:151: FutureWarning: The default value of regex will change from True to False in a future version. In addition, single character regular expressions will *not* be treated as literal strings when regex=True.\n",
      "  standings['TEAM_NAME'] = standings['TEAM_NAME'].str.replace('*', '', regex=False)\n",
      "  4%|▍         | 2/45 [00:07<02:31,  3.53s/it]"
     ]
    },
    {
     "name": "stdout",
     "output_type": "stream",
     "text": [
      "Extracting standings for 1981\n"
     ]
    },
    {
     "name": "stderr",
     "output_type": "stream",
     "text": [
      "/Users/nlrit3647/Documents/Python/Webscraping/bref_scraper.py:151: FutureWarning: The default value of regex will change from True to False in a future version. In addition, single character regular expressions will *not* be treated as literal strings when regex=True.\n",
      "  standings['TEAM_NAME'] = standings['TEAM_NAME'].str.replace('*', '', regex=False)\n",
      "  7%|▋         | 3/45 [00:10<02:25,  3.47s/it]"
     ]
    },
    {
     "name": "stdout",
     "output_type": "stream",
     "text": [
      "Extracting standings for 1982\n"
     ]
    },
    {
     "name": "stderr",
     "output_type": "stream",
     "text": [
      "/Users/nlrit3647/Documents/Python/Webscraping/bref_scraper.py:151: FutureWarning: The default value of regex will change from True to False in a future version. In addition, single character regular expressions will *not* be treated as literal strings when regex=True.\n",
      "  standings['TEAM_NAME'] = standings['TEAM_NAME'].str.replace('*', '', regex=False)\n",
      "  9%|▉         | 4/45 [00:13<02:22,  3.47s/it]"
     ]
    },
    {
     "name": "stdout",
     "output_type": "stream",
     "text": [
      "Extracting standings for 1983\n"
     ]
    },
    {
     "name": "stderr",
     "output_type": "stream",
     "text": [
      "/Users/nlrit3647/Documents/Python/Webscraping/bref_scraper.py:151: FutureWarning: The default value of regex will change from True to False in a future version. In addition, single character regular expressions will *not* be treated as literal strings when regex=True.\n",
      "  standings['TEAM_NAME'] = standings['TEAM_NAME'].str.replace('*', '', regex=False)\n",
      " 11%|█         | 5/45 [00:17<02:18,  3.46s/it]"
     ]
    },
    {
     "name": "stdout",
     "output_type": "stream",
     "text": [
      "Extracting standings for 1984\n"
     ]
    },
    {
     "name": "stderr",
     "output_type": "stream",
     "text": [
      "/Users/nlrit3647/Documents/Python/Webscraping/bref_scraper.py:151: FutureWarning: The default value of regex will change from True to False in a future version. In addition, single character regular expressions will *not* be treated as literal strings when regex=True.\n",
      "  standings['TEAM_NAME'] = standings['TEAM_NAME'].str.replace('*', '', regex=False)\n",
      " 13%|█▎        | 6/45 [00:20<02:14,  3.46s/it]"
     ]
    },
    {
     "name": "stdout",
     "output_type": "stream",
     "text": [
      "Extracting standings for 1985\n"
     ]
    },
    {
     "name": "stderr",
     "output_type": "stream",
     "text": [
      "/Users/nlrit3647/Documents/Python/Webscraping/bref_scraper.py:151: FutureWarning: The default value of regex will change from True to False in a future version. In addition, single character regular expressions will *not* be treated as literal strings when regex=True.\n",
      "  standings['TEAM_NAME'] = standings['TEAM_NAME'].str.replace('*', '', regex=False)\n",
      " 16%|█▌        | 7/45 [00:24<02:10,  3.44s/it]"
     ]
    },
    {
     "name": "stdout",
     "output_type": "stream",
     "text": [
      "Extracting standings for 1986\n"
     ]
    },
    {
     "name": "stderr",
     "output_type": "stream",
     "text": [
      "/Users/nlrit3647/Documents/Python/Webscraping/bref_scraper.py:151: FutureWarning: The default value of regex will change from True to False in a future version. In addition, single character regular expressions will *not* be treated as literal strings when regex=True.\n",
      "  standings['TEAM_NAME'] = standings['TEAM_NAME'].str.replace('*', '', regex=False)\n",
      " 18%|█▊        | 8/45 [00:27<02:07,  3.44s/it]"
     ]
    },
    {
     "name": "stdout",
     "output_type": "stream",
     "text": [
      "Extracting standings for 1987\n"
     ]
    },
    {
     "name": "stderr",
     "output_type": "stream",
     "text": [
      "/Users/nlrit3647/Documents/Python/Webscraping/bref_scraper.py:151: FutureWarning: The default value of regex will change from True to False in a future version. In addition, single character regular expressions will *not* be treated as literal strings when regex=True.\n",
      "  standings['TEAM_NAME'] = standings['TEAM_NAME'].str.replace('*', '', regex=False)\n",
      " 20%|██        | 9/45 [00:31<02:03,  3.43s/it]"
     ]
    },
    {
     "name": "stdout",
     "output_type": "stream",
     "text": [
      "Extracting standings for 1988\n"
     ]
    },
    {
     "name": "stderr",
     "output_type": "stream",
     "text": [
      "/Users/nlrit3647/Documents/Python/Webscraping/bref_scraper.py:151: FutureWarning: The default value of regex will change from True to False in a future version. In addition, single character regular expressions will *not* be treated as literal strings when regex=True.\n",
      "  standings['TEAM_NAME'] = standings['TEAM_NAME'].str.replace('*', '', regex=False)\n",
      " 22%|██▏       | 10/45 [00:34<01:59,  3.41s/it]"
     ]
    },
    {
     "name": "stdout",
     "output_type": "stream",
     "text": [
      "Extracting standings for 1989\n"
     ]
    },
    {
     "name": "stderr",
     "output_type": "stream",
     "text": [
      "/Users/nlrit3647/Documents/Python/Webscraping/bref_scraper.py:151: FutureWarning: The default value of regex will change from True to False in a future version. In addition, single character regular expressions will *not* be treated as literal strings when regex=True.\n",
      "  standings['TEAM_NAME'] = standings['TEAM_NAME'].str.replace('*', '', regex=False)\n",
      " 24%|██▍       | 11/45 [00:38<01:58,  3.47s/it]"
     ]
    },
    {
     "name": "stdout",
     "output_type": "stream",
     "text": [
      "Extracting standings for 1990\n"
     ]
    },
    {
     "name": "stderr",
     "output_type": "stream",
     "text": [
      "/Users/nlrit3647/Documents/Python/Webscraping/bref_scraper.py:151: FutureWarning: The default value of regex will change from True to False in a future version. In addition, single character regular expressions will *not* be treated as literal strings when regex=True.\n",
      "  standings['TEAM_NAME'] = standings['TEAM_NAME'].str.replace('*', '', regex=False)\n",
      " 27%|██▋       | 12/45 [00:41<01:54,  3.47s/it]"
     ]
    },
    {
     "name": "stdout",
     "output_type": "stream",
     "text": [
      "Extracting standings for 1991\n"
     ]
    },
    {
     "name": "stderr",
     "output_type": "stream",
     "text": [
      "/Users/nlrit3647/Documents/Python/Webscraping/bref_scraper.py:151: FutureWarning: The default value of regex will change from True to False in a future version. In addition, single character regular expressions will *not* be treated as literal strings when regex=True.\n",
      "  standings['TEAM_NAME'] = standings['TEAM_NAME'].str.replace('*', '', regex=False)\n",
      " 29%|██▉       | 13/45 [00:45<01:54,  3.57s/it]"
     ]
    },
    {
     "name": "stdout",
     "output_type": "stream",
     "text": [
      "Extracting standings for 1992\n"
     ]
    },
    {
     "name": "stderr",
     "output_type": "stream",
     "text": [
      "/Users/nlrit3647/Documents/Python/Webscraping/bref_scraper.py:151: FutureWarning: The default value of regex will change from True to False in a future version. In addition, single character regular expressions will *not* be treated as literal strings when regex=True.\n",
      "  standings['TEAM_NAME'] = standings['TEAM_NAME'].str.replace('*', '', regex=False)\n",
      " 31%|███       | 14/45 [00:48<01:50,  3.56s/it]"
     ]
    },
    {
     "name": "stdout",
     "output_type": "stream",
     "text": [
      "Extracting standings for 1993\n"
     ]
    },
    {
     "name": "stderr",
     "output_type": "stream",
     "text": [
      "/Users/nlrit3647/Documents/Python/Webscraping/bref_scraper.py:151: FutureWarning: The default value of regex will change from True to False in a future version. In addition, single character regular expressions will *not* be treated as literal strings when regex=True.\n",
      "  standings['TEAM_NAME'] = standings['TEAM_NAME'].str.replace('*', '', regex=False)\n",
      " 33%|███▎      | 15/45 [00:52<01:45,  3.53s/it]"
     ]
    },
    {
     "name": "stdout",
     "output_type": "stream",
     "text": [
      "Extracting standings for 1994\n"
     ]
    },
    {
     "name": "stderr",
     "output_type": "stream",
     "text": [
      "/Users/nlrit3647/Documents/Python/Webscraping/bref_scraper.py:151: FutureWarning: The default value of regex will change from True to False in a future version. In addition, single character regular expressions will *not* be treated as literal strings when regex=True.\n",
      "  standings['TEAM_NAME'] = standings['TEAM_NAME'].str.replace('*', '', regex=False)\n",
      " 36%|███▌      | 16/45 [00:55<01:42,  3.54s/it]"
     ]
    },
    {
     "name": "stdout",
     "output_type": "stream",
     "text": [
      "Extracting standings for 1995\n"
     ]
    },
    {
     "name": "stderr",
     "output_type": "stream",
     "text": [
      "/Users/nlrit3647/Documents/Python/Webscraping/bref_scraper.py:151: FutureWarning: The default value of regex will change from True to False in a future version. In addition, single character regular expressions will *not* be treated as literal strings when regex=True.\n",
      "  standings['TEAM_NAME'] = standings['TEAM_NAME'].str.replace('*', '', regex=False)\n",
      " 38%|███▊      | 17/45 [00:59<01:38,  3.50s/it]"
     ]
    },
    {
     "name": "stdout",
     "output_type": "stream",
     "text": [
      "Extracting standings for 1996\n"
     ]
    },
    {
     "name": "stderr",
     "output_type": "stream",
     "text": [
      "/Users/nlrit3647/Documents/Python/Webscraping/bref_scraper.py:151: FutureWarning: The default value of regex will change from True to False in a future version. In addition, single character regular expressions will *not* be treated as literal strings when regex=True.\n",
      "  standings['TEAM_NAME'] = standings['TEAM_NAME'].str.replace('*', '', regex=False)\n",
      " 40%|████      | 18/45 [01:02<01:34,  3.49s/it]"
     ]
    },
    {
     "name": "stdout",
     "output_type": "stream",
     "text": [
      "Extracting standings for 1997\n"
     ]
    },
    {
     "name": "stderr",
     "output_type": "stream",
     "text": [
      "/Users/nlrit3647/Documents/Python/Webscraping/bref_scraper.py:151: FutureWarning: The default value of regex will change from True to False in a future version. In addition, single character regular expressions will *not* be treated as literal strings when regex=True.\n",
      "  standings['TEAM_NAME'] = standings['TEAM_NAME'].str.replace('*', '', regex=False)\n",
      " 42%|████▏     | 19/45 [01:06<01:30,  3.48s/it]"
     ]
    },
    {
     "name": "stdout",
     "output_type": "stream",
     "text": [
      "Extracting standings for 1998\n"
     ]
    },
    {
     "name": "stderr",
     "output_type": "stream",
     "text": [
      "/Users/nlrit3647/Documents/Python/Webscraping/bref_scraper.py:151: FutureWarning: The default value of regex will change from True to False in a future version. In addition, single character regular expressions will *not* be treated as literal strings when regex=True.\n",
      "  standings['TEAM_NAME'] = standings['TEAM_NAME'].str.replace('*', '', regex=False)\n",
      " 44%|████▍     | 20/45 [01:09<01:27,  3.52s/it]"
     ]
    },
    {
     "name": "stdout",
     "output_type": "stream",
     "text": [
      "Extracting standings for 1999\n"
     ]
    },
    {
     "name": "stderr",
     "output_type": "stream",
     "text": [
      "/Users/nlrit3647/Documents/Python/Webscraping/bref_scraper.py:151: FutureWarning: The default value of regex will change from True to False in a future version. In addition, single character regular expressions will *not* be treated as literal strings when regex=True.\n",
      "  standings['TEAM_NAME'] = standings['TEAM_NAME'].str.replace('*', '', regex=False)\n",
      " 47%|████▋     | 21/45 [01:13<01:24,  3.52s/it]"
     ]
    },
    {
     "name": "stdout",
     "output_type": "stream",
     "text": [
      "Extracting standings for 2000\n"
     ]
    },
    {
     "name": "stderr",
     "output_type": "stream",
     "text": [
      "/Users/nlrit3647/Documents/Python/Webscraping/bref_scraper.py:151: FutureWarning: The default value of regex will change from True to False in a future version. In addition, single character regular expressions will *not* be treated as literal strings when regex=True.\n",
      "  standings['TEAM_NAME'] = standings['TEAM_NAME'].str.replace('*', '', regex=False)\n",
      " 49%|████▉     | 22/45 [01:17<01:21,  3.56s/it]"
     ]
    },
    {
     "name": "stdout",
     "output_type": "stream",
     "text": [
      "Extracting standings for 2001\n"
     ]
    },
    {
     "name": "stderr",
     "output_type": "stream",
     "text": [
      "/Users/nlrit3647/Documents/Python/Webscraping/bref_scraper.py:151: FutureWarning: The default value of regex will change from True to False in a future version. In addition, single character regular expressions will *not* be treated as literal strings when regex=True.\n",
      "  standings['TEAM_NAME'] = standings['TEAM_NAME'].str.replace('*', '', regex=False)\n",
      " 51%|█████     | 23/45 [01:20<01:17,  3.54s/it]"
     ]
    },
    {
     "name": "stdout",
     "output_type": "stream",
     "text": [
      "Extracting standings for 2002\n"
     ]
    },
    {
     "name": "stderr",
     "output_type": "stream",
     "text": [
      "/Users/nlrit3647/Documents/Python/Webscraping/bref_scraper.py:151: FutureWarning: The default value of regex will change from True to False in a future version. In addition, single character regular expressions will *not* be treated as literal strings when regex=True.\n",
      "  standings['TEAM_NAME'] = standings['TEAM_NAME'].str.replace('*', '', regex=False)\n",
      " 53%|█████▎    | 24/45 [01:23<01:14,  3.53s/it]"
     ]
    },
    {
     "name": "stdout",
     "output_type": "stream",
     "text": [
      "Extracting standings for 2003\n"
     ]
    },
    {
     "name": "stderr",
     "output_type": "stream",
     "text": [
      "/Users/nlrit3647/Documents/Python/Webscraping/bref_scraper.py:151: FutureWarning: The default value of regex will change from True to False in a future version. In addition, single character regular expressions will *not* be treated as literal strings when regex=True.\n",
      "  standings['TEAM_NAME'] = standings['TEAM_NAME'].str.replace('*', '', regex=False)\n",
      " 56%|█████▌    | 25/45 [01:27<01:10,  3.52s/it]"
     ]
    },
    {
     "name": "stdout",
     "output_type": "stream",
     "text": [
      "Extracting standings for 2004\n"
     ]
    },
    {
     "name": "stderr",
     "output_type": "stream",
     "text": [
      "/Users/nlrit3647/Documents/Python/Webscraping/bref_scraper.py:151: FutureWarning: The default value of regex will change from True to False in a future version. In addition, single character regular expressions will *not* be treated as literal strings when regex=True.\n",
      "  standings['TEAM_NAME'] = standings['TEAM_NAME'].str.replace('*', '', regex=False)\n",
      " 58%|█████▊    | 26/45 [01:31<01:07,  3.53s/it]"
     ]
    },
    {
     "name": "stdout",
     "output_type": "stream",
     "text": [
      "Extracting standings for 2005\n"
     ]
    },
    {
     "name": "stderr",
     "output_type": "stream",
     "text": [
      "/Users/nlrit3647/Documents/Python/Webscraping/bref_scraper.py:151: FutureWarning: The default value of regex will change from True to False in a future version. In addition, single character regular expressions will *not* be treated as literal strings when regex=True.\n",
      "  standings['TEAM_NAME'] = standings['TEAM_NAME'].str.replace('*', '', regex=False)\n",
      " 60%|██████    | 27/45 [01:34<01:05,  3.63s/it]"
     ]
    },
    {
     "name": "stdout",
     "output_type": "stream",
     "text": [
      "Extracting standings for 2006\n"
     ]
    },
    {
     "name": "stderr",
     "output_type": "stream",
     "text": [
      "/Users/nlrit3647/Documents/Python/Webscraping/bref_scraper.py:151: FutureWarning: The default value of regex will change from True to False in a future version. In addition, single character regular expressions will *not* be treated as literal strings when regex=True.\n",
      "  standings['TEAM_NAME'] = standings['TEAM_NAME'].str.replace('*', '', regex=False)\n",
      " 62%|██████▏   | 28/45 [01:38<01:01,  3.62s/it]"
     ]
    },
    {
     "name": "stdout",
     "output_type": "stream",
     "text": [
      "Extracting standings for 2007\n"
     ]
    },
    {
     "name": "stderr",
     "output_type": "stream",
     "text": [
      "/Users/nlrit3647/Documents/Python/Webscraping/bref_scraper.py:151: FutureWarning: The default value of regex will change from True to False in a future version. In addition, single character regular expressions will *not* be treated as literal strings when regex=True.\n",
      "  standings['TEAM_NAME'] = standings['TEAM_NAME'].str.replace('*', '', regex=False)\n",
      " 64%|██████▍   | 29/45 [01:42<00:57,  3.59s/it]"
     ]
    },
    {
     "name": "stdout",
     "output_type": "stream",
     "text": [
      "Extracting standings for 2008\n"
     ]
    },
    {
     "name": "stderr",
     "output_type": "stream",
     "text": [
      "/Users/nlrit3647/Documents/Python/Webscraping/bref_scraper.py:151: FutureWarning: The default value of regex will change from True to False in a future version. In addition, single character regular expressions will *not* be treated as literal strings when regex=True.\n",
      "  standings['TEAM_NAME'] = standings['TEAM_NAME'].str.replace('*', '', regex=False)\n",
      " 67%|██████▋   | 30/45 [01:45<00:53,  3.59s/it]"
     ]
    },
    {
     "name": "stdout",
     "output_type": "stream",
     "text": [
      "Extracting standings for 2009\n"
     ]
    },
    {
     "name": "stderr",
     "output_type": "stream",
     "text": [
      "/Users/nlrit3647/Documents/Python/Webscraping/bref_scraper.py:151: FutureWarning: The default value of regex will change from True to False in a future version. In addition, single character regular expressions will *not* be treated as literal strings when regex=True.\n",
      "  standings['TEAM_NAME'] = standings['TEAM_NAME'].str.replace('*', '', regex=False)\n",
      " 69%|██████▉   | 31/45 [01:49<00:50,  3.60s/it]"
     ]
    },
    {
     "name": "stdout",
     "output_type": "stream",
     "text": [
      "Extracting standings for 2010\n"
     ]
    },
    {
     "name": "stderr",
     "output_type": "stream",
     "text": [
      "/Users/nlrit3647/Documents/Python/Webscraping/bref_scraper.py:151: FutureWarning: The default value of regex will change from True to False in a future version. In addition, single character regular expressions will *not* be treated as literal strings when regex=True.\n",
      "  standings['TEAM_NAME'] = standings['TEAM_NAME'].str.replace('*', '', regex=False)\n",
      " 71%|███████   | 32/45 [01:53<00:48,  3.70s/it]"
     ]
    },
    {
     "name": "stdout",
     "output_type": "stream",
     "text": [
      "Extracting standings for 2011\n"
     ]
    },
    {
     "name": "stderr",
     "output_type": "stream",
     "text": [
      "/Users/nlrit3647/Documents/Python/Webscraping/bref_scraper.py:151: FutureWarning: The default value of regex will change from True to False in a future version. In addition, single character regular expressions will *not* be treated as literal strings when regex=True.\n",
      "  standings['TEAM_NAME'] = standings['TEAM_NAME'].str.replace('*', '', regex=False)\n",
      " 73%|███████▎  | 33/45 [01:56<00:43,  3.64s/it]"
     ]
    },
    {
     "name": "stdout",
     "output_type": "stream",
     "text": [
      "Extracting standings for 2012\n"
     ]
    },
    {
     "name": "stderr",
     "output_type": "stream",
     "text": [
      "/Users/nlrit3647/Documents/Python/Webscraping/bref_scraper.py:151: FutureWarning: The default value of regex will change from True to False in a future version. In addition, single character regular expressions will *not* be treated as literal strings when regex=True.\n",
      "  standings['TEAM_NAME'] = standings['TEAM_NAME'].str.replace('*', '', regex=False)\n",
      " 76%|███████▌  | 34/45 [02:00<00:39,  3.62s/it]"
     ]
    },
    {
     "name": "stdout",
     "output_type": "stream",
     "text": [
      "Extracting standings for 2013\n"
     ]
    },
    {
     "name": "stderr",
     "output_type": "stream",
     "text": [
      "/Users/nlrit3647/Documents/Python/Webscraping/bref_scraper.py:151: FutureWarning: The default value of regex will change from True to False in a future version. In addition, single character regular expressions will *not* be treated as literal strings when regex=True.\n",
      "  standings['TEAM_NAME'] = standings['TEAM_NAME'].str.replace('*', '', regex=False)\n",
      " 78%|███████▊  | 35/45 [02:03<00:35,  3.59s/it]"
     ]
    },
    {
     "name": "stdout",
     "output_type": "stream",
     "text": [
      "Extracting standings for 2014\n"
     ]
    },
    {
     "name": "stderr",
     "output_type": "stream",
     "text": [
      "/Users/nlrit3647/Documents/Python/Webscraping/bref_scraper.py:151: FutureWarning: The default value of regex will change from True to False in a future version. In addition, single character regular expressions will *not* be treated as literal strings when regex=True.\n",
      "  standings['TEAM_NAME'] = standings['TEAM_NAME'].str.replace('*', '', regex=False)\n",
      " 80%|████████  | 36/45 [02:07<00:31,  3.53s/it]"
     ]
    },
    {
     "name": "stdout",
     "output_type": "stream",
     "text": [
      "Extracting standings for 2015\n"
     ]
    },
    {
     "name": "stderr",
     "output_type": "stream",
     "text": [
      "/Users/nlrit3647/Documents/Python/Webscraping/bref_scraper.py:151: FutureWarning: The default value of regex will change from True to False in a future version. In addition, single character regular expressions will *not* be treated as literal strings when regex=True.\n",
      "  standings['TEAM_NAME'] = standings['TEAM_NAME'].str.replace('*', '', regex=False)\n",
      " 82%|████████▏ | 37/45 [02:10<00:28,  3.54s/it]"
     ]
    },
    {
     "name": "stdout",
     "output_type": "stream",
     "text": [
      "Extracting standings for 2016\n"
     ]
    },
    {
     "name": "stderr",
     "output_type": "stream",
     "text": [
      "/Users/nlrit3647/Documents/Python/Webscraping/bref_scraper.py:151: FutureWarning: The default value of regex will change from True to False in a future version. In addition, single character regular expressions will *not* be treated as literal strings when regex=True.\n",
      "  standings['TEAM_NAME'] = standings['TEAM_NAME'].str.replace('*', '', regex=False)\n",
      " 84%|████████▍ | 38/45 [02:14<00:24,  3.51s/it]"
     ]
    },
    {
     "name": "stdout",
     "output_type": "stream",
     "text": [
      "Extracting standings for 2017\n"
     ]
    },
    {
     "name": "stderr",
     "output_type": "stream",
     "text": [
      "/Users/nlrit3647/Documents/Python/Webscraping/bref_scraper.py:151: FutureWarning: The default value of regex will change from True to False in a future version. In addition, single character regular expressions will *not* be treated as literal strings when regex=True.\n",
      "  standings['TEAM_NAME'] = standings['TEAM_NAME'].str.replace('*', '', regex=False)\n",
      " 87%|████████▋ | 39/45 [02:17<00:21,  3.51s/it]"
     ]
    },
    {
     "name": "stdout",
     "output_type": "stream",
     "text": [
      "Extracting standings for 2018\n"
     ]
    },
    {
     "name": "stderr",
     "output_type": "stream",
     "text": [
      "/Users/nlrit3647/Documents/Python/Webscraping/bref_scraper.py:151: FutureWarning: The default value of regex will change from True to False in a future version. In addition, single character regular expressions will *not* be treated as literal strings when regex=True.\n",
      "  standings['TEAM_NAME'] = standings['TEAM_NAME'].str.replace('*', '', regex=False)\n",
      " 89%|████████▉ | 40/45 [02:21<00:17,  3.51s/it]"
     ]
    },
    {
     "name": "stdout",
     "output_type": "stream",
     "text": [
      "Extracting standings for 2019\n"
     ]
    },
    {
     "name": "stderr",
     "output_type": "stream",
     "text": [
      "/Users/nlrit3647/Documents/Python/Webscraping/bref_scraper.py:151: FutureWarning: The default value of regex will change from True to False in a future version. In addition, single character regular expressions will *not* be treated as literal strings when regex=True.\n",
      "  standings['TEAM_NAME'] = standings['TEAM_NAME'].str.replace('*', '', regex=False)\n",
      " 91%|█████████ | 41/45 [02:24<00:14,  3.51s/it]"
     ]
    },
    {
     "name": "stdout",
     "output_type": "stream",
     "text": [
      "Extracting standings for 2020\n"
     ]
    },
    {
     "name": "stderr",
     "output_type": "stream",
     "text": [
      "/Users/nlrit3647/Documents/Python/Webscraping/bref_scraper.py:151: FutureWarning: The default value of regex will change from True to False in a future version. In addition, single character regular expressions will *not* be treated as literal strings when regex=True.\n",
      "  standings['TEAM_NAME'] = standings['TEAM_NAME'].str.replace('*', '', regex=False)\n",
      " 93%|█████████▎| 42/45 [02:25<00:08,  2.84s/it]"
     ]
    },
    {
     "name": "stdout",
     "output_type": "stream",
     "text": [
      "Extracting standings for 2021\n"
     ]
    },
    {
     "name": "stderr",
     "output_type": "stream",
     "text": [
      "/Users/nlrit3647/Documents/Python/Webscraping/bref_scraper.py:151: FutureWarning: The default value of regex will change from True to False in a future version. In addition, single character regular expressions will *not* be treated as literal strings when regex=True.\n",
      "  standings['TEAM_NAME'] = standings['TEAM_NAME'].str.replace('*', '', regex=False)\n",
      " 96%|█████████▌| 43/45 [02:29<00:06,  3.07s/it]"
     ]
    },
    {
     "name": "stdout",
     "output_type": "stream",
     "text": [
      "Extracting standings for 2022\n"
     ]
    },
    {
     "name": "stderr",
     "output_type": "stream",
     "text": [
      "/Users/nlrit3647/Documents/Python/Webscraping/bref_scraper.py:151: FutureWarning: The default value of regex will change from True to False in a future version. In addition, single character regular expressions will *not* be treated as literal strings when regex=True.\n",
      "  standings['TEAM_NAME'] = standings['TEAM_NAME'].str.replace('*', '', regex=False)\n",
      " 98%|█████████▊| 44/45 [02:33<00:03,  3.31s/it]"
     ]
    },
    {
     "name": "stdout",
     "output_type": "stream",
     "text": [
      "Extracting standings for 2023\n"
     ]
    },
    {
     "name": "stderr",
     "output_type": "stream",
     "text": [
      "/Users/nlrit3647/Documents/Python/Webscraping/bref_scraper.py:151: FutureWarning: The default value of regex will change from True to False in a future version. In addition, single character regular expressions will *not* be treated as literal strings when regex=True.\n",
      "  standings['TEAM_NAME'] = standings['TEAM_NAME'].str.replace('*', '', regex=False)\n",
      "100%|██████████| 45/45 [02:36<00:00,  3.49s/it]\n"
     ]
    }
   ],
   "source": [
    "def historical_standings(start_year, end_year):\n",
    "    \"\"\"\n",
    "    Gathers advanced statistics data from start year to end year\n",
    "    \"\"\"\n",
    "    years = [year for year in range(start_year, end_year)]\n",
    "    table = []\n",
    "\n",
    "    for year in tqdm(years):\n",
    "        print(f\"Extracting standings for {year}\")\n",
    "        standings_table = bref.extract_standings(year)\n",
    "        if standings_table is not None:\n",
    "            standings_table['year'] = year\n",
    "            table.append(standings_table)\n",
    "        \n",
    "        time.sleep(3) #Adding 3 seconds to avoid being blocked \n",
    "\n",
    "    standings = pd.concat(table)\n",
    "\n",
    "    return standings\n",
    "\n",
    "start_year = 1979\n",
    "end_year = 2024\n",
    "\n",
    "history_standings = historical_standings(start_year, end_year)\n",
    "# Store as csv\n",
    "history_standings.to_csv(cur_dir + '/data/history_standings.csv', index = False)"
   ]
  },
  {
   "cell_type": "code",
   "execution_count": 8,
   "metadata": {},
   "outputs": [
    {
     "data": {
      "text/html": [
       "<div>\n",
       "<style scoped>\n",
       "    .dataframe tbody tr th:only-of-type {\n",
       "        vertical-align: middle;\n",
       "    }\n",
       "\n",
       "    .dataframe tbody tr th {\n",
       "        vertical-align: top;\n",
       "    }\n",
       "\n",
       "    .dataframe thead th {\n",
       "        text-align: right;\n",
       "    }\n",
       "</style>\n",
       "<table border=\"1\" class=\"dataframe\">\n",
       "  <thead>\n",
       "    <tr style=\"text-align: right;\">\n",
       "      <th></th>\n",
       "      <th>TEAM_NAME</th>\n",
       "      <th>W</th>\n",
       "      <th>L</th>\n",
       "      <th>W/L%</th>\n",
       "      <th>GB</th>\n",
       "      <th>PS/G</th>\n",
       "      <th>PA/G</th>\n",
       "      <th>SRS</th>\n",
       "      <th>Conference</th>\n",
       "      <th>TEAM_ABBREVIATION</th>\n",
       "      <th>year</th>\n",
       "    </tr>\n",
       "  </thead>\n",
       "  <tbody>\n",
       "    <tr>\n",
       "      <th>0</th>\n",
       "      <td>Washington Bullets</td>\n",
       "      <td>54</td>\n",
       "      <td>28</td>\n",
       "      <td>.659</td>\n",
       "      <td>—</td>\n",
       "      <td>114.9</td>\n",
       "      <td>109.9</td>\n",
       "      <td>4.75</td>\n",
       "      <td>East</td>\n",
       "      <td>WSB</td>\n",
       "      <td>1979</td>\n",
       "    </tr>\n",
       "    <tr>\n",
       "      <th>1</th>\n",
       "      <td>Philadelphia 76ers</td>\n",
       "      <td>47</td>\n",
       "      <td>35</td>\n",
       "      <td>.573</td>\n",
       "      <td>7.0</td>\n",
       "      <td>109.5</td>\n",
       "      <td>107.7</td>\n",
       "      <td>1.74</td>\n",
       "      <td>East</td>\n",
       "      <td>PHI</td>\n",
       "      <td>1979</td>\n",
       "    </tr>\n",
       "    <tr>\n",
       "      <th>2</th>\n",
       "      <td>New Jersey Nets</td>\n",
       "      <td>37</td>\n",
       "      <td>45</td>\n",
       "      <td>.451</td>\n",
       "      <td>17.0</td>\n",
       "      <td>107.7</td>\n",
       "      <td>111.9</td>\n",
       "      <td>-4.00</td>\n",
       "      <td>East</td>\n",
       "      <td>NJN</td>\n",
       "      <td>1979</td>\n",
       "    </tr>\n",
       "    <tr>\n",
       "      <th>3</th>\n",
       "      <td>New York Knicks</td>\n",
       "      <td>31</td>\n",
       "      <td>51</td>\n",
       "      <td>.378</td>\n",
       "      <td>23.0</td>\n",
       "      <td>107.7</td>\n",
       "      <td>111.1</td>\n",
       "      <td>-3.29</td>\n",
       "      <td>East</td>\n",
       "      <td>NYK</td>\n",
       "      <td>1979</td>\n",
       "    </tr>\n",
       "    <tr>\n",
       "      <th>4</th>\n",
       "      <td>Boston Celtics</td>\n",
       "      <td>29</td>\n",
       "      <td>53</td>\n",
       "      <td>.354</td>\n",
       "      <td>25.0</td>\n",
       "      <td>108.2</td>\n",
       "      <td>113.3</td>\n",
       "      <td>-4.78</td>\n",
       "      <td>East</td>\n",
       "      <td>BOS</td>\n",
       "      <td>1979</td>\n",
       "    </tr>\n",
       "    <tr>\n",
       "      <th>...</th>\n",
       "      <td>...</td>\n",
       "      <td>...</td>\n",
       "      <td>...</td>\n",
       "      <td>...</td>\n",
       "      <td>...</td>\n",
       "      <td>...</td>\n",
       "      <td>...</td>\n",
       "      <td>...</td>\n",
       "      <td>...</td>\n",
       "      <td>...</td>\n",
       "      <td>...</td>\n",
       "    </tr>\n",
       "    <tr>\n",
       "      <th>25</th>\n",
       "      <td>Memphis Grizzlies</td>\n",
       "      <td>51</td>\n",
       "      <td>31</td>\n",
       "      <td>.622</td>\n",
       "      <td>—</td>\n",
       "      <td>116.9</td>\n",
       "      <td>113.0</td>\n",
       "      <td>3.60</td>\n",
       "      <td>West</td>\n",
       "      <td>MEM</td>\n",
       "      <td>2023</td>\n",
       "    </tr>\n",
       "    <tr>\n",
       "      <th>26</th>\n",
       "      <td>New Orleans Pelicans</td>\n",
       "      <td>42</td>\n",
       "      <td>40</td>\n",
       "      <td>.512</td>\n",
       "      <td>9.0</td>\n",
       "      <td>114.4</td>\n",
       "      <td>112.5</td>\n",
       "      <td>1.63</td>\n",
       "      <td>West</td>\n",
       "      <td>NOP</td>\n",
       "      <td>2023</td>\n",
       "    </tr>\n",
       "    <tr>\n",
       "      <th>27</th>\n",
       "      <td>Dallas Mavericks</td>\n",
       "      <td>38</td>\n",
       "      <td>44</td>\n",
       "      <td>.463</td>\n",
       "      <td>13.0</td>\n",
       "      <td>114.2</td>\n",
       "      <td>114.1</td>\n",
       "      <td>-0.14</td>\n",
       "      <td>West</td>\n",
       "      <td>DAL</td>\n",
       "      <td>2023</td>\n",
       "    </tr>\n",
       "    <tr>\n",
       "      <th>28</th>\n",
       "      <td>Houston Rockets</td>\n",
       "      <td>22</td>\n",
       "      <td>60</td>\n",
       "      <td>.268</td>\n",
       "      <td>29.0</td>\n",
       "      <td>110.7</td>\n",
       "      <td>118.6</td>\n",
       "      <td>-7.62</td>\n",
       "      <td>West</td>\n",
       "      <td>HOU</td>\n",
       "      <td>2023</td>\n",
       "    </tr>\n",
       "    <tr>\n",
       "      <th>29</th>\n",
       "      <td>San Antonio Spurs</td>\n",
       "      <td>22</td>\n",
       "      <td>60</td>\n",
       "      <td>.268</td>\n",
       "      <td>29.0</td>\n",
       "      <td>113.0</td>\n",
       "      <td>123.1</td>\n",
       "      <td>-9.82</td>\n",
       "      <td>West</td>\n",
       "      <td>SAS</td>\n",
       "      <td>2023</td>\n",
       "    </tr>\n",
       "  </tbody>\n",
       "</table>\n",
       "<p>1246 rows × 11 columns</p>\n",
       "</div>"
      ],
      "text/plain": [
       "               TEAM_NAME   W   L  W/L%    GB   PS/G   PA/G    SRS Conference  \\\n",
       "0     Washington Bullets  54  28  .659     —  114.9  109.9   4.75       East   \n",
       "1     Philadelphia 76ers  47  35  .573   7.0  109.5  107.7   1.74       East   \n",
       "2        New Jersey Nets  37  45  .451  17.0  107.7  111.9  -4.00       East   \n",
       "3        New York Knicks  31  51  .378  23.0  107.7  111.1  -3.29       East   \n",
       "4         Boston Celtics  29  53  .354  25.0  108.2  113.3  -4.78       East   \n",
       "..                   ...  ..  ..   ...   ...    ...    ...    ...        ...   \n",
       "25     Memphis Grizzlies  51  31  .622     —  116.9  113.0   3.60       West   \n",
       "26  New Orleans Pelicans  42  40  .512   9.0  114.4  112.5   1.63       West   \n",
       "27      Dallas Mavericks  38  44  .463  13.0  114.2  114.1  -0.14       West   \n",
       "28       Houston Rockets  22  60  .268  29.0  110.7  118.6  -7.62       West   \n",
       "29     San Antonio Spurs  22  60  .268  29.0  113.0  123.1  -9.82       West   \n",
       "\n",
       "   TEAM_ABBREVIATION  year  \n",
       "0                WSB  1979  \n",
       "1                PHI  1979  \n",
       "2                NJN  1979  \n",
       "3                NYK  1979  \n",
       "4                BOS  1979  \n",
       "..               ...   ...  \n",
       "25               MEM  2023  \n",
       "26               NOP  2023  \n",
       "27               DAL  2023  \n",
       "28               HOU  2023  \n",
       "29               SAS  2023  \n",
       "\n",
       "[1246 rows x 11 columns]"
      ]
     },
     "execution_count": 8,
     "metadata": {},
     "output_type": "execute_result"
    }
   ],
   "source": [
    "history_standings"
   ]
  },
  {
   "cell_type": "code",
   "execution_count": 4,
   "metadata": {},
   "outputs": [
    {
     "data": {
      "text/html": [
       "<div>\n",
       "<style scoped>\n",
       "    .dataframe tbody tr th:only-of-type {\n",
       "        vertical-align: middle;\n",
       "    }\n",
       "\n",
       "    .dataframe tbody tr th {\n",
       "        vertical-align: top;\n",
       "    }\n",
       "\n",
       "    .dataframe thead th {\n",
       "        text-align: right;\n",
       "    }\n",
       "</style>\n",
       "<table border=\"1\" class=\"dataframe\">\n",
       "  <thead>\n",
       "    <tr style=\"text-align: right;\">\n",
       "      <th></th>\n",
       "      <th>Rank</th>\n",
       "      <th>Player</th>\n",
       "      <th>Tm</th>\n",
       "      <th>Share</th>\n",
       "      <th>G</th>\n",
       "      <th>MP</th>\n",
       "      <th>PTS</th>\n",
       "      <th>TRB</th>\n",
       "      <th>AST</th>\n",
       "      <th>STL</th>\n",
       "      <th>BLK</th>\n",
       "      <th>FG%</th>\n",
       "      <th>3P%</th>\n",
       "      <th>FT%</th>\n",
       "      <th>WS</th>\n",
       "      <th>WS/48</th>\n",
       "      <th>year</th>\n",
       "      <th>Pos</th>\n",
       "      <th>PER</th>\n",
       "      <th>TS%</th>\n",
       "      <th>3PAr</th>\n",
       "      <th>FTr</th>\n",
       "      <th>ORB%</th>\n",
       "      <th>DRB%</th>\n",
       "      <th>TRB%</th>\n",
       "      <th>AST%</th>\n",
       "      <th>STL%</th>\n",
       "      <th>BLK%</th>\n",
       "      <th>TOV%</th>\n",
       "      <th>USG%</th>\n",
       "      <th>OWS</th>\n",
       "      <th>DWS</th>\n",
       "      <th>OBPM</th>\n",
       "      <th>DBPM</th>\n",
       "      <th>BPM</th>\n",
       "      <th>VORP</th>\n",
       "      <th>W</th>\n",
       "      <th>L</th>\n",
       "      <th>W/L%</th>\n",
       "    </tr>\n",
       "  </thead>\n",
       "  <tbody>\n",
       "    <tr>\n",
       "      <th>0</th>\n",
       "      <td>1</td>\n",
       "      <td>Phil Ford</td>\n",
       "      <td>KCK</td>\n",
       "      <td>0.939</td>\n",
       "      <td>79</td>\n",
       "      <td>34.5</td>\n",
       "      <td>15.9</td>\n",
       "      <td>2.3</td>\n",
       "      <td>8.6</td>\n",
       "      <td>2.2</td>\n",
       "      <td>0.1</td>\n",
       "      <td>0.465</td>\n",
       "      <td>NaN</td>\n",
       "      <td>0.813</td>\n",
       "      <td>5.7</td>\n",
       "      <td>0.101</td>\n",
       "      <td>1979</td>\n",
       "      <td>PG</td>\n",
       "      <td>15.8</td>\n",
       "      <td>0.534</td>\n",
       "      <td>NaN</td>\n",
       "      <td>0.399</td>\n",
       "      <td>1.3</td>\n",
       "      <td>6.1</td>\n",
       "      <td>3.6</td>\n",
       "      <td>32.2</td>\n",
       "      <td>2.9</td>\n",
       "      <td>0.1</td>\n",
       "      <td>21.5</td>\n",
       "      <td>21.2</td>\n",
       "      <td>2.5</td>\n",
       "      <td>3.2</td>\n",
       "      <td>0.9</td>\n",
       "      <td>0.0</td>\n",
       "      <td>0.9</td>\n",
       "      <td>2.0</td>\n",
       "      <td>48.0</td>\n",
       "      <td>34.0</td>\n",
       "      <td>0.585</td>\n",
       "    </tr>\n",
       "    <tr>\n",
       "      <th>1</th>\n",
       "      <td>2</td>\n",
       "      <td>Reggie Theus</td>\n",
       "      <td>CHI</td>\n",
       "      <td>0.061</td>\n",
       "      <td>82</td>\n",
       "      <td>33.6</td>\n",
       "      <td>16.3</td>\n",
       "      <td>2.8</td>\n",
       "      <td>5.2</td>\n",
       "      <td>1.1</td>\n",
       "      <td>0.2</td>\n",
       "      <td>0.480</td>\n",
       "      <td>NaN</td>\n",
       "      <td>0.761</td>\n",
       "      <td>3.2</td>\n",
       "      <td>0.056</td>\n",
       "      <td>1979</td>\n",
       "      <td>PG</td>\n",
       "      <td>13.3</td>\n",
       "      <td>0.526</td>\n",
       "      <td>NaN</td>\n",
       "      <td>0.310</td>\n",
       "      <td>3.7</td>\n",
       "      <td>5.4</td>\n",
       "      <td>4.5</td>\n",
       "      <td>22.8</td>\n",
       "      <td>1.6</td>\n",
       "      <td>0.3</td>\n",
       "      <td>19.2</td>\n",
       "      <td>22.9</td>\n",
       "      <td>1.5</td>\n",
       "      <td>1.7</td>\n",
       "      <td>-0.7</td>\n",
       "      <td>-1.2</td>\n",
       "      <td>-1.9</td>\n",
       "      <td>0.1</td>\n",
       "      <td>31.0</td>\n",
       "      <td>51.0</td>\n",
       "      <td>0.378</td>\n",
       "    </tr>\n",
       "    <tr>\n",
       "      <th>2</th>\n",
       "      <td>1</td>\n",
       "      <td>Larry Bird</td>\n",
       "      <td>BOS</td>\n",
       "      <td>0.955</td>\n",
       "      <td>82</td>\n",
       "      <td>36.0</td>\n",
       "      <td>21.3</td>\n",
       "      <td>10.4</td>\n",
       "      <td>4.5</td>\n",
       "      <td>1.7</td>\n",
       "      <td>0.6</td>\n",
       "      <td>0.474</td>\n",
       "      <td>0.406</td>\n",
       "      <td>0.836</td>\n",
       "      <td>11.2</td>\n",
       "      <td>0.182</td>\n",
       "      <td>1980</td>\n",
       "      <td>PF</td>\n",
       "      <td>20.5</td>\n",
       "      <td>0.538</td>\n",
       "      <td>0.098</td>\n",
       "      <td>0.246</td>\n",
       "      <td>8.3</td>\n",
       "      <td>23.6</td>\n",
       "      <td>16.0</td>\n",
       "      <td>18.5</td>\n",
       "      <td>2.3</td>\n",
       "      <td>1.0</td>\n",
       "      <td>14.0</td>\n",
       "      <td>25.3</td>\n",
       "      <td>5.6</td>\n",
       "      <td>5.6</td>\n",
       "      <td>3.0</td>\n",
       "      <td>1.5</td>\n",
       "      <td>4.5</td>\n",
       "      <td>4.8</td>\n",
       "      <td>61.0</td>\n",
       "      <td>21.0</td>\n",
       "      <td>0.744</td>\n",
       "    </tr>\n",
       "    <tr>\n",
       "      <th>3</th>\n",
       "      <td>2</td>\n",
       "      <td>Magic Johnson</td>\n",
       "      <td>LAL</td>\n",
       "      <td>0.045</td>\n",
       "      <td>77</td>\n",
       "      <td>36.3</td>\n",
       "      <td>18.0</td>\n",
       "      <td>7.7</td>\n",
       "      <td>7.3</td>\n",
       "      <td>2.4</td>\n",
       "      <td>0.5</td>\n",
       "      <td>0.530</td>\n",
       "      <td>0.226</td>\n",
       "      <td>0.810</td>\n",
       "      <td>10.5</td>\n",
       "      <td>0.180</td>\n",
       "      <td>1980</td>\n",
       "      <td>SG</td>\n",
       "      <td>20.6</td>\n",
       "      <td>0.602</td>\n",
       "      <td>0.033</td>\n",
       "      <td>0.487</td>\n",
       "      <td>7.1</td>\n",
       "      <td>15.4</td>\n",
       "      <td>11.6</td>\n",
       "      <td>25.2</td>\n",
       "      <td>3.1</td>\n",
       "      <td>0.8</td>\n",
       "      <td>20.9</td>\n",
       "      <td>20.9</td>\n",
       "      <td>6.2</td>\n",
       "      <td>4.3</td>\n",
       "      <td>3.1</td>\n",
       "      <td>1.7</td>\n",
       "      <td>4.8</td>\n",
       "      <td>4.8</td>\n",
       "      <td>60.0</td>\n",
       "      <td>22.0</td>\n",
       "      <td>0.732</td>\n",
       "    </tr>\n",
       "    <tr>\n",
       "      <th>4</th>\n",
       "      <td>1</td>\n",
       "      <td>Darrell Griffith</td>\n",
       "      <td>UTA</td>\n",
       "      <td>0.275</td>\n",
       "      <td>81</td>\n",
       "      <td>35.4</td>\n",
       "      <td>20.6</td>\n",
       "      <td>3.6</td>\n",
       "      <td>2.4</td>\n",
       "      <td>1.3</td>\n",
       "      <td>0.5</td>\n",
       "      <td>0.464</td>\n",
       "      <td>0.192</td>\n",
       "      <td>0.716</td>\n",
       "      <td>0.4</td>\n",
       "      <td>0.006</td>\n",
       "      <td>1981</td>\n",
       "      <td>SG</td>\n",
       "      <td>14.7</td>\n",
       "      <td>0.496</td>\n",
       "      <td>0.034</td>\n",
       "      <td>0.207</td>\n",
       "      <td>3.2</td>\n",
       "      <td>8.3</td>\n",
       "      <td>5.8</td>\n",
       "      <td>11.4</td>\n",
       "      <td>1.8</td>\n",
       "      <td>0.8</td>\n",
       "      <td>12.1</td>\n",
       "      <td>28.8</td>\n",
       "      <td>-0.8</td>\n",
       "      <td>1.1</td>\n",
       "      <td>-1.0</td>\n",
       "      <td>-2.2</td>\n",
       "      <td>-3.2</td>\n",
       "      <td>-0.9</td>\n",
       "      <td>28.0</td>\n",
       "      <td>54.0</td>\n",
       "      <td>0.341</td>\n",
       "    </tr>\n",
       "    <tr>\n",
       "      <th>...</th>\n",
       "      <td>...</td>\n",
       "      <td>...</td>\n",
       "      <td>...</td>\n",
       "      <td>...</td>\n",
       "      <td>...</td>\n",
       "      <td>...</td>\n",
       "      <td>...</td>\n",
       "      <td>...</td>\n",
       "      <td>...</td>\n",
       "      <td>...</td>\n",
       "      <td>...</td>\n",
       "      <td>...</td>\n",
       "      <td>...</td>\n",
       "      <td>...</td>\n",
       "      <td>...</td>\n",
       "      <td>...</td>\n",
       "      <td>...</td>\n",
       "      <td>...</td>\n",
       "      <td>...</td>\n",
       "      <td>...</td>\n",
       "      <td>...</td>\n",
       "      <td>...</td>\n",
       "      <td>...</td>\n",
       "      <td>...</td>\n",
       "      <td>...</td>\n",
       "      <td>...</td>\n",
       "      <td>...</td>\n",
       "      <td>...</td>\n",
       "      <td>...</td>\n",
       "      <td>...</td>\n",
       "      <td>...</td>\n",
       "      <td>...</td>\n",
       "      <td>...</td>\n",
       "      <td>...</td>\n",
       "      <td>...</td>\n",
       "      <td>...</td>\n",
       "      <td>...</td>\n",
       "      <td>...</td>\n",
       "      <td>...</td>\n",
       "    </tr>\n",
       "    <tr>\n",
       "      <th>250</th>\n",
       "      <td>2</td>\n",
       "      <td>Jalen Williams</td>\n",
       "      <td>OKC</td>\n",
       "      <td>0.482</td>\n",
       "      <td>75</td>\n",
       "      <td>30.3</td>\n",
       "      <td>14.1</td>\n",
       "      <td>4.5</td>\n",
       "      <td>3.3</td>\n",
       "      <td>1.4</td>\n",
       "      <td>0.5</td>\n",
       "      <td>0.521</td>\n",
       "      <td>0.356</td>\n",
       "      <td>0.812</td>\n",
       "      <td>5.6</td>\n",
       "      <td>0.119</td>\n",
       "      <td>2023</td>\n",
       "      <td>SG</td>\n",
       "      <td>15.6</td>\n",
       "      <td>0.601</td>\n",
       "      <td>0.258</td>\n",
       "      <td>0.241</td>\n",
       "      <td>3.9</td>\n",
       "      <td>12.2</td>\n",
       "      <td>7.9</td>\n",
       "      <td>15.4</td>\n",
       "      <td>2.1</td>\n",
       "      <td>1.4</td>\n",
       "      <td>12.3</td>\n",
       "      <td>18.4</td>\n",
       "      <td>3.0</td>\n",
       "      <td>2.6</td>\n",
       "      <td>-0.4</td>\n",
       "      <td>0.7</td>\n",
       "      <td>0.3</td>\n",
       "      <td>1.3</td>\n",
       "      <td>40.0</td>\n",
       "      <td>42.0</td>\n",
       "      <td>0.488</td>\n",
       "    </tr>\n",
       "    <tr>\n",
       "      <th>251</th>\n",
       "      <td>3</td>\n",
       "      <td>Walker Kessler</td>\n",
       "      <td>UTA</td>\n",
       "      <td>0.228</td>\n",
       "      <td>74</td>\n",
       "      <td>23.0</td>\n",
       "      <td>9.2</td>\n",
       "      <td>8.4</td>\n",
       "      <td>0.9</td>\n",
       "      <td>0.4</td>\n",
       "      <td>2.3</td>\n",
       "      <td>0.720</td>\n",
       "      <td>0.333</td>\n",
       "      <td>0.516</td>\n",
       "      <td>7.1</td>\n",
       "      <td>0.200</td>\n",
       "      <td>2023</td>\n",
       "      <td>C</td>\n",
       "      <td>21.5</td>\n",
       "      <td>0.702</td>\n",
       "      <td>0.007</td>\n",
       "      <td>0.384</td>\n",
       "      <td>14.9</td>\n",
       "      <td>24.4</td>\n",
       "      <td>19.7</td>\n",
       "      <td>5.7</td>\n",
       "      <td>0.7</td>\n",
       "      <td>8.6</td>\n",
       "      <td>10.7</td>\n",
       "      <td>13.3</td>\n",
       "      <td>4.6</td>\n",
       "      <td>2.5</td>\n",
       "      <td>1.4</td>\n",
       "      <td>1.5</td>\n",
       "      <td>2.9</td>\n",
       "      <td>2.1</td>\n",
       "      <td>37.0</td>\n",
       "      <td>45.0</td>\n",
       "      <td>0.451</td>\n",
       "    </tr>\n",
       "    <tr>\n",
       "      <th>252</th>\n",
       "      <td>4</td>\n",
       "      <td>Bennedict Mathurin</td>\n",
       "      <td>IND</td>\n",
       "      <td>0.054</td>\n",
       "      <td>78</td>\n",
       "      <td>28.5</td>\n",
       "      <td>16.7</td>\n",
       "      <td>4.1</td>\n",
       "      <td>1.5</td>\n",
       "      <td>0.6</td>\n",
       "      <td>0.2</td>\n",
       "      <td>0.434</td>\n",
       "      <td>0.323</td>\n",
       "      <td>0.828</td>\n",
       "      <td>1.8</td>\n",
       "      <td>0.038</td>\n",
       "      <td>2023</td>\n",
       "      <td>SG</td>\n",
       "      <td>13.1</td>\n",
       "      <td>0.566</td>\n",
       "      <td>0.326</td>\n",
       "      <td>0.477</td>\n",
       "      <td>4.4</td>\n",
       "      <td>11.5</td>\n",
       "      <td>7.9</td>\n",
       "      <td>7.6</td>\n",
       "      <td>1.0</td>\n",
       "      <td>0.5</td>\n",
       "      <td>11.7</td>\n",
       "      <td>24.6</td>\n",
       "      <td>1.0</td>\n",
       "      <td>0.8</td>\n",
       "      <td>-1.2</td>\n",
       "      <td>-2.5</td>\n",
       "      <td>-3.7</td>\n",
       "      <td>-1.0</td>\n",
       "      <td>35.0</td>\n",
       "      <td>47.0</td>\n",
       "      <td>0.427</td>\n",
       "    </tr>\n",
       "    <tr>\n",
       "      <th>253</th>\n",
       "      <td>5</td>\n",
       "      <td>Keegan Murray</td>\n",
       "      <td>SAC</td>\n",
       "      <td>0.042</td>\n",
       "      <td>80</td>\n",
       "      <td>29.8</td>\n",
       "      <td>12.2</td>\n",
       "      <td>4.6</td>\n",
       "      <td>1.2</td>\n",
       "      <td>0.8</td>\n",
       "      <td>0.5</td>\n",
       "      <td>0.453</td>\n",
       "      <td>0.411</td>\n",
       "      <td>0.765</td>\n",
       "      <td>4.3</td>\n",
       "      <td>0.087</td>\n",
       "      <td>2023</td>\n",
       "      <td>SF</td>\n",
       "      <td>12.3</td>\n",
       "      <td>0.597</td>\n",
       "      <td>0.641</td>\n",
       "      <td>0.104</td>\n",
       "      <td>4.3</td>\n",
       "      <td>13.4</td>\n",
       "      <td>8.9</td>\n",
       "      <td>5.5</td>\n",
       "      <td>1.2</td>\n",
       "      <td>1.5</td>\n",
       "      <td>6.8</td>\n",
       "      <td>15.8</td>\n",
       "      <td>2.6</td>\n",
       "      <td>1.7</td>\n",
       "      <td>0.4</td>\n",
       "      <td>-1.0</td>\n",
       "      <td>-0.6</td>\n",
       "      <td>0.8</td>\n",
       "      <td>48.0</td>\n",
       "      <td>34.0</td>\n",
       "      <td>0.585</td>\n",
       "    </tr>\n",
       "    <tr>\n",
       "      <th>254</th>\n",
       "      <td>6</td>\n",
       "      <td>Jaden Ivey</td>\n",
       "      <td>DET</td>\n",
       "      <td>0.006</td>\n",
       "      <td>74</td>\n",
       "      <td>31.1</td>\n",
       "      <td>16.3</td>\n",
       "      <td>3.9</td>\n",
       "      <td>5.2</td>\n",
       "      <td>0.8</td>\n",
       "      <td>0.2</td>\n",
       "      <td>0.416</td>\n",
       "      <td>0.343</td>\n",
       "      <td>0.747</td>\n",
       "      <td>0.0</td>\n",
       "      <td>-0.001</td>\n",
       "      <td>2023</td>\n",
       "      <td>SG</td>\n",
       "      <td>12.1</td>\n",
       "      <td>0.528</td>\n",
       "      <td>0.356</td>\n",
       "      <td>0.362</td>\n",
       "      <td>3.4</td>\n",
       "      <td>10.7</td>\n",
       "      <td>6.9</td>\n",
       "      <td>26.2</td>\n",
       "      <td>1.3</td>\n",
       "      <td>0.7</td>\n",
       "      <td>17.2</td>\n",
       "      <td>25.4</td>\n",
       "      <td>-0.9</td>\n",
       "      <td>0.8</td>\n",
       "      <td>-1.4</td>\n",
       "      <td>-1.9</td>\n",
       "      <td>-3.3</td>\n",
       "      <td>-0.7</td>\n",
       "      <td>17.0</td>\n",
       "      <td>65.0</td>\n",
       "      <td>0.207</td>\n",
       "    </tr>\n",
       "  </tbody>\n",
       "</table>\n",
       "<p>255 rows × 39 columns</p>\n",
       "</div>"
      ],
      "text/plain": [
       "    Rank              Player   Tm  Share   G    MP   PTS   TRB  AST  STL  BLK  \\\n",
       "0      1           Phil Ford  KCK  0.939  79  34.5  15.9   2.3  8.6  2.2  0.1   \n",
       "1      2        Reggie Theus  CHI  0.061  82  33.6  16.3   2.8  5.2  1.1  0.2   \n",
       "2      1          Larry Bird  BOS  0.955  82  36.0  21.3  10.4  4.5  1.7  0.6   \n",
       "3      2       Magic Johnson  LAL  0.045  77  36.3  18.0   7.7  7.3  2.4  0.5   \n",
       "4      1    Darrell Griffith  UTA  0.275  81  35.4  20.6   3.6  2.4  1.3  0.5   \n",
       "..   ...                 ...  ...    ...  ..   ...   ...   ...  ...  ...  ...   \n",
       "250    2      Jalen Williams  OKC  0.482  75  30.3  14.1   4.5  3.3  1.4  0.5   \n",
       "251    3      Walker Kessler  UTA  0.228  74  23.0   9.2   8.4  0.9  0.4  2.3   \n",
       "252    4  Bennedict Mathurin  IND  0.054  78  28.5  16.7   4.1  1.5  0.6  0.2   \n",
       "253    5       Keegan Murray  SAC  0.042  80  29.8  12.2   4.6  1.2  0.8  0.5   \n",
       "254    6          Jaden Ivey  DET  0.006  74  31.1  16.3   3.9  5.2  0.8  0.2   \n",
       "\n",
       "       FG%    3P%    FT%    WS  WS/48  year Pos   PER    TS%   3PAr    FTr  \\\n",
       "0    0.465    NaN  0.813   5.7  0.101  1979  PG  15.8  0.534    NaN  0.399   \n",
       "1    0.480    NaN  0.761   3.2  0.056  1979  PG  13.3  0.526    NaN  0.310   \n",
       "2    0.474  0.406  0.836  11.2  0.182  1980  PF  20.5  0.538  0.098  0.246   \n",
       "3    0.530  0.226  0.810  10.5  0.180  1980  SG  20.6  0.602  0.033  0.487   \n",
       "4    0.464  0.192  0.716   0.4  0.006  1981  SG  14.7  0.496  0.034  0.207   \n",
       "..     ...    ...    ...   ...    ...   ...  ..   ...    ...    ...    ...   \n",
       "250  0.521  0.356  0.812   5.6  0.119  2023  SG  15.6  0.601  0.258  0.241   \n",
       "251  0.720  0.333  0.516   7.1  0.200  2023   C  21.5  0.702  0.007  0.384   \n",
       "252  0.434  0.323  0.828   1.8  0.038  2023  SG  13.1  0.566  0.326  0.477   \n",
       "253  0.453  0.411  0.765   4.3  0.087  2023  SF  12.3  0.597  0.641  0.104   \n",
       "254  0.416  0.343  0.747   0.0 -0.001  2023  SG  12.1  0.528  0.356  0.362   \n",
       "\n",
       "     ORB%  DRB%  TRB%  AST%  STL%  BLK%  TOV%  USG%  OWS  DWS  OBPM  DBPM  \\\n",
       "0     1.3   6.1   3.6  32.2   2.9   0.1  21.5  21.2  2.5  3.2   0.9   0.0   \n",
       "1     3.7   5.4   4.5  22.8   1.6   0.3  19.2  22.9  1.5  1.7  -0.7  -1.2   \n",
       "2     8.3  23.6  16.0  18.5   2.3   1.0  14.0  25.3  5.6  5.6   3.0   1.5   \n",
       "3     7.1  15.4  11.6  25.2   3.1   0.8  20.9  20.9  6.2  4.3   3.1   1.7   \n",
       "4     3.2   8.3   5.8  11.4   1.8   0.8  12.1  28.8 -0.8  1.1  -1.0  -2.2   \n",
       "..    ...   ...   ...   ...   ...   ...   ...   ...  ...  ...   ...   ...   \n",
       "250   3.9  12.2   7.9  15.4   2.1   1.4  12.3  18.4  3.0  2.6  -0.4   0.7   \n",
       "251  14.9  24.4  19.7   5.7   0.7   8.6  10.7  13.3  4.6  2.5   1.4   1.5   \n",
       "252   4.4  11.5   7.9   7.6   1.0   0.5  11.7  24.6  1.0  0.8  -1.2  -2.5   \n",
       "253   4.3  13.4   8.9   5.5   1.2   1.5   6.8  15.8  2.6  1.7   0.4  -1.0   \n",
       "254   3.4  10.7   6.9  26.2   1.3   0.7  17.2  25.4 -0.9  0.8  -1.4  -1.9   \n",
       "\n",
       "     BPM  VORP     W     L   W/L%  \n",
       "0    0.9   2.0  48.0  34.0  0.585  \n",
       "1   -1.9   0.1  31.0  51.0  0.378  \n",
       "2    4.5   4.8  61.0  21.0  0.744  \n",
       "3    4.8   4.8  60.0  22.0  0.732  \n",
       "4   -3.2  -0.9  28.0  54.0  0.341  \n",
       "..   ...   ...   ...   ...    ...  \n",
       "250  0.3   1.3  40.0  42.0  0.488  \n",
       "251  2.9   2.1  37.0  45.0  0.451  \n",
       "252 -3.7  -1.0  35.0  47.0  0.427  \n",
       "253 -0.6   0.8  48.0  34.0  0.585  \n",
       "254 -3.3  -0.7  17.0  65.0  0.207  \n",
       "\n",
       "[255 rows x 39 columns]"
      ]
     },
     "execution_count": 4,
     "metadata": {},
     "output_type": "execute_result"
    }
   ],
   "source": [
    "advanced_stats = pd.read_csv(cur_dir+'/data/history_advanced_stats.csv')\n",
    "roy_table = pd.read_csv(cur_dir+'/data/history_roy.csv')\n",
    "standings_table = pd.read_csv(cur_dir+'/data/history_standings.csv')\n",
    "\n",
    "\n",
    "#Merge dataframes and remove duplicate columns\n",
    "table = pd.merge(roy_table, advanced_stats, how='left', on=['Player', 'year', 'Tm'], suffixes=('', '_remove'))\n",
    "table.drop([column for column in table.columns if 'remove' in column], axis=1, inplace=True)\n",
    "\n",
    "#Merge team standings to the table\n",
    "table = pd.merge(table, standings_table, how='left', left_on=['Tm', 'year'], right_on=['TEAM_ABBREVIATION', 'year'], suffixes=('', '_remove'))\n",
    "table.drop([column for column in table.columns if 'remove' in column], axis=1, inplace=True)\n",
    "\n",
    "to_drop = [\n",
    "    'Age',\n",
    "    'First', \n",
    "    'Pts Won', \n",
    "    'Pts Max',\n",
    "    'Rk',\n",
    "    'TEAM_NAME',\n",
    "    'Conference', \n",
    "    'TEAM_ABBREVIATION',\n",
    "    'GB',\n",
    "    'PS/G', \n",
    "    'PA/G', \n",
    "    'SRS'\n",
    "]\n",
    "\n",
    "master_table = table.drop(columns=to_drop)\n",
    "master_table\n"
   ]
  },
  {
   "cell_type": "code",
   "execution_count": 29,
   "metadata": {},
   "outputs": [],
   "source": [
    "master_table_copy = master_table.copy()\n",
    "master_table_copy['W'] = master_table_copy['W'].fillna(round(master_table_copy['W'].mean()))\n",
    "master_table_copy['L'] = master_table_copy['L'].fillna(round(master_table_copy['L'].mean()))\n",
    "master_table_copy['W/L%'] = master_table_copy['W/L%'].fillna(master_table_copy['W/L%'].mean())\n",
    "master_table_copy[['3P%', '3PAr']] = master_table_copy[['3P%', '3PAr']].fillna(0)\n",
    "\n",
    "master_table_copy.to_csv(cur_dir + '/data/master_table.csv', index = False)"
   ]
  },
  {
   "cell_type": "code",
   "execution_count": null,
   "metadata": {},
   "outputs": [],
   "source": [
    "master_table_copy.info()"
   ]
  },
  {
   "cell_type": "code",
   "execution_count": 28,
   "metadata": {},
   "outputs": [
    {
     "data": {
      "text/html": [
       "<div>\n",
       "<style scoped>\n",
       "    .dataframe tbody tr th:only-of-type {\n",
       "        vertical-align: middle;\n",
       "    }\n",
       "\n",
       "    .dataframe tbody tr th {\n",
       "        vertical-align: top;\n",
       "    }\n",
       "\n",
       "    .dataframe thead th {\n",
       "        text-align: right;\n",
       "    }\n",
       "</style>\n",
       "<table border=\"1\" class=\"dataframe\">\n",
       "  <thead>\n",
       "    <tr style=\"text-align: right;\">\n",
       "      <th></th>\n",
       "      <th>Rank</th>\n",
       "      <th>Player</th>\n",
       "      <th>Tm</th>\n",
       "      <th>Share</th>\n",
       "      <th>G</th>\n",
       "      <th>MP</th>\n",
       "      <th>PTS</th>\n",
       "      <th>TRB</th>\n",
       "      <th>AST</th>\n",
       "      <th>STL</th>\n",
       "      <th>BLK</th>\n",
       "      <th>FG%</th>\n",
       "      <th>3P%</th>\n",
       "      <th>FT%</th>\n",
       "      <th>WS</th>\n",
       "      <th>WS/48</th>\n",
       "      <th>year</th>\n",
       "      <th>Pos</th>\n",
       "      <th>PER</th>\n",
       "      <th>TS%</th>\n",
       "      <th>3PAr</th>\n",
       "      <th>FTr</th>\n",
       "      <th>ORB%</th>\n",
       "      <th>DRB%</th>\n",
       "      <th>TRB%</th>\n",
       "      <th>AST%</th>\n",
       "      <th>STL%</th>\n",
       "      <th>BLK%</th>\n",
       "      <th>TOV%</th>\n",
       "      <th>USG%</th>\n",
       "      <th>OWS</th>\n",
       "      <th>DWS</th>\n",
       "      <th>OBPM</th>\n",
       "      <th>DBPM</th>\n",
       "      <th>BPM</th>\n",
       "      <th>VORP</th>\n",
       "      <th>W</th>\n",
       "      <th>L</th>\n",
       "      <th>W/L%</th>\n",
       "    </tr>\n",
       "  </thead>\n",
       "  <tbody>\n",
       "  </tbody>\n",
       "</table>\n",
       "</div>"
      ],
      "text/plain": [
       "Empty DataFrame\n",
       "Columns: [Rank, Player, Tm, Share, G, MP, PTS, TRB, AST, STL, BLK, FG%, 3P%, FT%, WS, WS/48, year, Pos, PER, TS%, 3PAr, FTr, ORB%, DRB%, TRB%, AST%, STL%, BLK%, TOV%, USG%, OWS, DWS, OBPM, DBPM, BPM, VORP, W, L, W/L%]\n",
       "Index: []"
      ]
     },
     "execution_count": 28,
     "metadata": {},
     "output_type": "execute_result"
    }
   ],
   "source": [
    "null_rows = master_table_copy[master_table_copy.isnull().any(axis=1)]\n",
    "null_rows\n"
   ]
  },
  {
   "cell_type": "code",
   "execution_count": 19,
   "metadata": {},
   "outputs": [
    {
     "data": {
      "text/html": [
       "<div>\n",
       "<style scoped>\n",
       "    .dataframe tbody tr th:only-of-type {\n",
       "        vertical-align: middle;\n",
       "    }\n",
       "\n",
       "    .dataframe tbody tr th {\n",
       "        vertical-align: top;\n",
       "    }\n",
       "\n",
       "    .dataframe thead th {\n",
       "        text-align: right;\n",
       "    }\n",
       "</style>\n",
       "<table border=\"1\" class=\"dataframe\">\n",
       "  <thead>\n",
       "    <tr style=\"text-align: right;\">\n",
       "      <th></th>\n",
       "      <th>Rank</th>\n",
       "      <th>Player</th>\n",
       "      <th>Tm</th>\n",
       "      <th>Share</th>\n",
       "      <th>G</th>\n",
       "      <th>MP</th>\n",
       "      <th>PTS</th>\n",
       "      <th>TRB</th>\n",
       "      <th>AST</th>\n",
       "      <th>STL</th>\n",
       "      <th>BLK</th>\n",
       "      <th>FG%</th>\n",
       "      <th>3P%</th>\n",
       "      <th>FT%</th>\n",
       "      <th>WS</th>\n",
       "      <th>WS/48</th>\n",
       "      <th>year</th>\n",
       "      <th>Pos</th>\n",
       "      <th>PER</th>\n",
       "      <th>TS%</th>\n",
       "      <th>3PAr</th>\n",
       "      <th>FTr</th>\n",
       "      <th>ORB%</th>\n",
       "      <th>DRB%</th>\n",
       "      <th>TRB%</th>\n",
       "      <th>AST%</th>\n",
       "      <th>STL%</th>\n",
       "      <th>BLK%</th>\n",
       "      <th>TOV%</th>\n",
       "      <th>USG%</th>\n",
       "      <th>OWS</th>\n",
       "      <th>DWS</th>\n",
       "      <th>OBPM</th>\n",
       "      <th>DBPM</th>\n",
       "      <th>BPM</th>\n",
       "      <th>VORP</th>\n",
       "      <th>W</th>\n",
       "      <th>L</th>\n",
       "      <th>W/L%</th>\n",
       "    </tr>\n",
       "  </thead>\n",
       "  <tbody>\n",
       "    <tr>\n",
       "      <th>207</th>\n",
       "      <td>1</td>\n",
       "      <td>Malcolm Brogdon</td>\n",
       "      <td>MIL</td>\n",
       "      <td>0.828</td>\n",
       "      <td>75</td>\n",
       "      <td>26.4</td>\n",
       "      <td>10.2</td>\n",
       "      <td>2.8</td>\n",
       "      <td>4.2</td>\n",
       "      <td>1.1</td>\n",
       "      <td>0.2</td>\n",
       "      <td>0.457</td>\n",
       "      <td>0.404</td>\n",
       "      <td>0.865</td>\n",
       "      <td>4.1</td>\n",
       "      <td>0.100</td>\n",
       "      <td>2017</td>\n",
       "      <td>SG</td>\n",
       "      <td>14.9</td>\n",
       "      <td>0.555</td>\n",
       "      <td>0.304</td>\n",
       "      <td>0.198</td>\n",
       "      <td>2.8</td>\n",
       "      <td>9.6</td>\n",
       "      <td>6.3</td>\n",
       "      <td>24.3</td>\n",
       "      <td>2.2</td>\n",
       "      <td>0.5</td>\n",
       "      <td>14.1</td>\n",
       "      <td>18.5</td>\n",
       "      <td>2.6</td>\n",
       "      <td>1.5</td>\n",
       "      <td>0.0</td>\n",
       "      <td>-0.4</td>\n",
       "      <td>-0.4</td>\n",
       "      <td>0.8</td>\n",
       "      <td>42.0</td>\n",
       "      <td>40.0</td>\n",
       "      <td>0.512</td>\n",
       "    </tr>\n",
       "    <tr>\n",
       "      <th>208</th>\n",
       "      <td>2</td>\n",
       "      <td>Dario Šarić</td>\n",
       "      <td>PHI</td>\n",
       "      <td>0.532</td>\n",
       "      <td>81</td>\n",
       "      <td>26.3</td>\n",
       "      <td>12.8</td>\n",
       "      <td>6.3</td>\n",
       "      <td>2.2</td>\n",
       "      <td>0.7</td>\n",
       "      <td>0.4</td>\n",
       "      <td>0.411</td>\n",
       "      <td>0.311</td>\n",
       "      <td>0.782</td>\n",
       "      <td>1.0</td>\n",
       "      <td>0.023</td>\n",
       "      <td>2017</td>\n",
       "      <td>PF</td>\n",
       "      <td>12.8</td>\n",
       "      <td>0.508</td>\n",
       "      <td>0.368</td>\n",
       "      <td>0.237</td>\n",
       "      <td>5.8</td>\n",
       "      <td>20.8</td>\n",
       "      <td>13.3</td>\n",
       "      <td>14.3</td>\n",
       "      <td>1.3</td>\n",
       "      <td>1.1</td>\n",
       "      <td>15.2</td>\n",
       "      <td>24.6</td>\n",
       "      <td>-1.2</td>\n",
       "      <td>2.2</td>\n",
       "      <td>-1.3</td>\n",
       "      <td>-0.9</td>\n",
       "      <td>-2.3</td>\n",
       "      <td>-0.2</td>\n",
       "      <td>28.0</td>\n",
       "      <td>54.0</td>\n",
       "      <td>0.341</td>\n",
       "    </tr>\n",
       "    <tr>\n",
       "      <th>209</th>\n",
       "      <td>3</td>\n",
       "      <td>Joel Embiid</td>\n",
       "      <td>PHI</td>\n",
       "      <td>0.354</td>\n",
       "      <td>31</td>\n",
       "      <td>25.4</td>\n",
       "      <td>20.2</td>\n",
       "      <td>7.8</td>\n",
       "      <td>2.1</td>\n",
       "      <td>0.9</td>\n",
       "      <td>2.5</td>\n",
       "      <td>0.466</td>\n",
       "      <td>0.367</td>\n",
       "      <td>0.783</td>\n",
       "      <td>1.9</td>\n",
       "      <td>0.117</td>\n",
       "      <td>2017</td>\n",
       "      <td>C</td>\n",
       "      <td>24.1</td>\n",
       "      <td>0.584</td>\n",
       "      <td>0.228</td>\n",
       "      <td>0.569</td>\n",
       "      <td>8.5</td>\n",
       "      <td>25.6</td>\n",
       "      <td>17.0</td>\n",
       "      <td>16.0</td>\n",
       "      <td>1.7</td>\n",
       "      <td>7.7</td>\n",
       "      <td>17.9</td>\n",
       "      <td>36.0</td>\n",
       "      <td>0.5</td>\n",
       "      <td>1.5</td>\n",
       "      <td>1.9</td>\n",
       "      <td>2.7</td>\n",
       "      <td>4.5</td>\n",
       "      <td>1.3</td>\n",
       "      <td>28.0</td>\n",
       "      <td>54.0</td>\n",
       "      <td>0.341</td>\n",
       "    </tr>\n",
       "    <tr>\n",
       "      <th>210</th>\n",
       "      <td>4</td>\n",
       "      <td>Buddy Hield</td>\n",
       "      <td>TOT</td>\n",
       "      <td>0.042</td>\n",
       "      <td>82</td>\n",
       "      <td>23.0</td>\n",
       "      <td>10.6</td>\n",
       "      <td>3.3</td>\n",
       "      <td>1.5</td>\n",
       "      <td>0.5</td>\n",
       "      <td>0.1</td>\n",
       "      <td>0.426</td>\n",
       "      <td>0.391</td>\n",
       "      <td>0.842</td>\n",
       "      <td>1.3</td>\n",
       "      <td>0.032</td>\n",
       "      <td>2017</td>\n",
       "      <td>SG</td>\n",
       "      <td>11.8</td>\n",
       "      <td>0.541</td>\n",
       "      <td>0.494</td>\n",
       "      <td>0.099</td>\n",
       "      <td>2.0</td>\n",
       "      <td>13.5</td>\n",
       "      <td>7.8</td>\n",
       "      <td>10.3</td>\n",
       "      <td>1.0</td>\n",
       "      <td>0.4</td>\n",
       "      <td>11.2</td>\n",
       "      <td>21.3</td>\n",
       "      <td>0.0</td>\n",
       "      <td>1.3</td>\n",
       "      <td>-0.6</td>\n",
       "      <td>-1.4</td>\n",
       "      <td>-2.0</td>\n",
       "      <td>0.0</td>\n",
       "      <td>NaN</td>\n",
       "      <td>NaN</td>\n",
       "      <td>NaN</td>\n",
       "    </tr>\n",
       "    <tr>\n",
       "      <th>211</th>\n",
       "      <td>5T</td>\n",
       "      <td>Willy Hernangómez</td>\n",
       "      <td>NYK</td>\n",
       "      <td>0.016</td>\n",
       "      <td>72</td>\n",
       "      <td>18.4</td>\n",
       "      <td>8.2</td>\n",
       "      <td>7.0</td>\n",
       "      <td>1.3</td>\n",
       "      <td>0.6</td>\n",
       "      <td>0.5</td>\n",
       "      <td>0.529</td>\n",
       "      <td>0.267</td>\n",
       "      <td>0.728</td>\n",
       "      <td>3.4</td>\n",
       "      <td>0.123</td>\n",
       "      <td>2017</td>\n",
       "      <td>C</td>\n",
       "      <td>19.0</td>\n",
       "      <td>0.564</td>\n",
       "      <td>0.032</td>\n",
       "      <td>0.269</td>\n",
       "      <td>13.8</td>\n",
       "      <td>27.1</td>\n",
       "      <td>20.4</td>\n",
       "      <td>11.5</td>\n",
       "      <td>1.5</td>\n",
       "      <td>2.2</td>\n",
       "      <td>16.1</td>\n",
       "      <td>20.3</td>\n",
       "      <td>1.8</td>\n",
       "      <td>1.6</td>\n",
       "      <td>0.3</td>\n",
       "      <td>-0.5</td>\n",
       "      <td>-0.3</td>\n",
       "      <td>0.6</td>\n",
       "      <td>31.0</td>\n",
       "      <td>51.0</td>\n",
       "      <td>0.378</td>\n",
       "    </tr>\n",
       "    <tr>\n",
       "      <th>212</th>\n",
       "      <td>5T</td>\n",
       "      <td>Jamal Murray</td>\n",
       "      <td>DEN</td>\n",
       "      <td>0.016</td>\n",
       "      <td>82</td>\n",
       "      <td>21.5</td>\n",
       "      <td>9.9</td>\n",
       "      <td>2.6</td>\n",
       "      <td>2.1</td>\n",
       "      <td>0.6</td>\n",
       "      <td>0.3</td>\n",
       "      <td>0.404</td>\n",
       "      <td>0.334</td>\n",
       "      <td>0.883</td>\n",
       "      <td>1.3</td>\n",
       "      <td>0.037</td>\n",
       "      <td>2017</td>\n",
       "      <td>SG</td>\n",
       "      <td>11.9</td>\n",
       "      <td>0.518</td>\n",
       "      <td>0.471</td>\n",
       "      <td>0.164</td>\n",
       "      <td>2.6</td>\n",
       "      <td>10.7</td>\n",
       "      <td>6.7</td>\n",
       "      <td>14.0</td>\n",
       "      <td>1.4</td>\n",
       "      <td>1.1</td>\n",
       "      <td>12.6</td>\n",
       "      <td>21.6</td>\n",
       "      <td>0.6</td>\n",
       "      <td>0.7</td>\n",
       "      <td>-0.6</td>\n",
       "      <td>-1.4</td>\n",
       "      <td>-2.0</td>\n",
       "      <td>0.0</td>\n",
       "      <td>40.0</td>\n",
       "      <td>42.0</td>\n",
       "      <td>0.488</td>\n",
       "    </tr>\n",
       "    <tr>\n",
       "      <th>213</th>\n",
       "      <td>7</td>\n",
       "      <td>Marquese Chriss</td>\n",
       "      <td>PHO</td>\n",
       "      <td>0.006</td>\n",
       "      <td>82</td>\n",
       "      <td>21.3</td>\n",
       "      <td>9.2</td>\n",
       "      <td>4.2</td>\n",
       "      <td>0.7</td>\n",
       "      <td>0.8</td>\n",
       "      <td>0.9</td>\n",
       "      <td>0.449</td>\n",
       "      <td>0.321</td>\n",
       "      <td>0.624</td>\n",
       "      <td>1.8</td>\n",
       "      <td>0.050</td>\n",
       "      <td>2017</td>\n",
       "      <td>PF</td>\n",
       "      <td>12.3</td>\n",
       "      <td>0.529</td>\n",
       "      <td>0.354</td>\n",
       "      <td>0.286</td>\n",
       "      <td>5.8</td>\n",
       "      <td>16.1</td>\n",
       "      <td>10.8</td>\n",
       "      <td>5.2</td>\n",
       "      <td>1.8</td>\n",
       "      <td>3.2</td>\n",
       "      <td>13.2</td>\n",
       "      <td>19.7</td>\n",
       "      <td>0.3</td>\n",
       "      <td>1.5</td>\n",
       "      <td>-2.2</td>\n",
       "      <td>-0.1</td>\n",
       "      <td>-2.2</td>\n",
       "      <td>-0.1</td>\n",
       "      <td>24.0</td>\n",
       "      <td>58.0</td>\n",
       "      <td>0.293</td>\n",
       "    </tr>\n",
       "    <tr>\n",
       "      <th>214</th>\n",
       "      <td>8T</td>\n",
       "      <td>Jaylen Brown</td>\n",
       "      <td>BOS</td>\n",
       "      <td>0.002</td>\n",
       "      <td>78</td>\n",
       "      <td>17.2</td>\n",
       "      <td>6.6</td>\n",
       "      <td>2.8</td>\n",
       "      <td>0.8</td>\n",
       "      <td>0.4</td>\n",
       "      <td>0.2</td>\n",
       "      <td>0.454</td>\n",
       "      <td>0.341</td>\n",
       "      <td>0.685</td>\n",
       "      <td>1.5</td>\n",
       "      <td>0.053</td>\n",
       "      <td>2017</td>\n",
       "      <td>SF</td>\n",
       "      <td>10.3</td>\n",
       "      <td>0.539</td>\n",
       "      <td>0.319</td>\n",
       "      <td>0.293</td>\n",
       "      <td>3.8</td>\n",
       "      <td>14.4</td>\n",
       "      <td>9.1</td>\n",
       "      <td>7.2</td>\n",
       "      <td>1.3</td>\n",
       "      <td>1.1</td>\n",
       "      <td>12.5</td>\n",
       "      <td>18.1</td>\n",
       "      <td>0.2</td>\n",
       "      <td>1.3</td>\n",
       "      <td>-3.0</td>\n",
       "      <td>-0.8</td>\n",
       "      <td>-3.7</td>\n",
       "      <td>-0.6</td>\n",
       "      <td>53.0</td>\n",
       "      <td>29.0</td>\n",
       "      <td>0.646</td>\n",
       "    </tr>\n",
       "    <tr>\n",
       "      <th>215</th>\n",
       "      <td>8T</td>\n",
       "      <td>Yogi Ferrell</td>\n",
       "      <td>TOT</td>\n",
       "      <td>0.002</td>\n",
       "      <td>46</td>\n",
       "      <td>26.0</td>\n",
       "      <td>10.0</td>\n",
       "      <td>2.4</td>\n",
       "      <td>3.7</td>\n",
       "      <td>0.9</td>\n",
       "      <td>0.2</td>\n",
       "      <td>0.406</td>\n",
       "      <td>0.386</td>\n",
       "      <td>0.831</td>\n",
       "      <td>1.8</td>\n",
       "      <td>0.072</td>\n",
       "      <td>2017</td>\n",
       "      <td>PG</td>\n",
       "      <td>13.1</td>\n",
       "      <td>0.533</td>\n",
       "      <td>0.447</td>\n",
       "      <td>0.226</td>\n",
       "      <td>1.8</td>\n",
       "      <td>9.2</td>\n",
       "      <td>5.3</td>\n",
       "      <td>23.2</td>\n",
       "      <td>1.8</td>\n",
       "      <td>0.7</td>\n",
       "      <td>13.9</td>\n",
       "      <td>19.6</td>\n",
       "      <td>0.8</td>\n",
       "      <td>1.0</td>\n",
       "      <td>-0.9</td>\n",
       "      <td>-0.3</td>\n",
       "      <td>-1.1</td>\n",
       "      <td>0.3</td>\n",
       "      <td>NaN</td>\n",
       "      <td>NaN</td>\n",
       "      <td>NaN</td>\n",
       "    </tr>\n",
       "    <tr>\n",
       "      <th>216</th>\n",
       "      <td>8T</td>\n",
       "      <td>Rodney McGruder</td>\n",
       "      <td>MIA</td>\n",
       "      <td>0.002</td>\n",
       "      <td>78</td>\n",
       "      <td>25.2</td>\n",
       "      <td>6.4</td>\n",
       "      <td>3.3</td>\n",
       "      <td>1.6</td>\n",
       "      <td>0.6</td>\n",
       "      <td>0.2</td>\n",
       "      <td>0.413</td>\n",
       "      <td>0.332</td>\n",
       "      <td>0.620</td>\n",
       "      <td>2.9</td>\n",
       "      <td>0.072</td>\n",
       "      <td>2017</td>\n",
       "      <td>SG</td>\n",
       "      <td>9.1</td>\n",
       "      <td>0.506</td>\n",
       "      <td>0.478</td>\n",
       "      <td>0.154</td>\n",
       "      <td>5.2</td>\n",
       "      <td>9.2</td>\n",
       "      <td>7.2</td>\n",
       "      <td>8.8</td>\n",
       "      <td>1.2</td>\n",
       "      <td>0.7</td>\n",
       "      <td>10.2</td>\n",
       "      <td>12.3</td>\n",
       "      <td>1.2</td>\n",
       "      <td>1.7</td>\n",
       "      <td>-1.8</td>\n",
       "      <td>-0.1</td>\n",
       "      <td>-1.9</td>\n",
       "      <td>0.0</td>\n",
       "      <td>41.0</td>\n",
       "      <td>41.0</td>\n",
       "      <td>0.500</td>\n",
       "    </tr>\n",
       "  </tbody>\n",
       "</table>\n",
       "</div>"
      ],
      "text/plain": [
       "    Rank             Player   Tm  Share   G    MP   PTS  TRB  AST  STL  BLK  \\\n",
       "207    1    Malcolm Brogdon  MIL  0.828  75  26.4  10.2  2.8  4.2  1.1  0.2   \n",
       "208    2        Dario Šarić  PHI  0.532  81  26.3  12.8  6.3  2.2  0.7  0.4   \n",
       "209    3        Joel Embiid  PHI  0.354  31  25.4  20.2  7.8  2.1  0.9  2.5   \n",
       "210    4        Buddy Hield  TOT  0.042  82  23.0  10.6  3.3  1.5  0.5  0.1   \n",
       "211   5T  Willy Hernangómez  NYK  0.016  72  18.4   8.2  7.0  1.3  0.6  0.5   \n",
       "212   5T       Jamal Murray  DEN  0.016  82  21.5   9.9  2.6  2.1  0.6  0.3   \n",
       "213    7    Marquese Chriss  PHO  0.006  82  21.3   9.2  4.2  0.7  0.8  0.9   \n",
       "214   8T       Jaylen Brown  BOS  0.002  78  17.2   6.6  2.8  0.8  0.4  0.2   \n",
       "215   8T       Yogi Ferrell  TOT  0.002  46  26.0  10.0  2.4  3.7  0.9  0.2   \n",
       "216   8T    Rodney McGruder  MIA  0.002  78  25.2   6.4  3.3  1.6  0.6  0.2   \n",
       "\n",
       "       FG%    3P%    FT%   WS  WS/48  year Pos   PER    TS%   3PAr    FTr  \\\n",
       "207  0.457  0.404  0.865  4.1  0.100  2017  SG  14.9  0.555  0.304  0.198   \n",
       "208  0.411  0.311  0.782  1.0  0.023  2017  PF  12.8  0.508  0.368  0.237   \n",
       "209  0.466  0.367  0.783  1.9  0.117  2017   C  24.1  0.584  0.228  0.569   \n",
       "210  0.426  0.391  0.842  1.3  0.032  2017  SG  11.8  0.541  0.494  0.099   \n",
       "211  0.529  0.267  0.728  3.4  0.123  2017   C  19.0  0.564  0.032  0.269   \n",
       "212  0.404  0.334  0.883  1.3  0.037  2017  SG  11.9  0.518  0.471  0.164   \n",
       "213  0.449  0.321  0.624  1.8  0.050  2017  PF  12.3  0.529  0.354  0.286   \n",
       "214  0.454  0.341  0.685  1.5  0.053  2017  SF  10.3  0.539  0.319  0.293   \n",
       "215  0.406  0.386  0.831  1.8  0.072  2017  PG  13.1  0.533  0.447  0.226   \n",
       "216  0.413  0.332  0.620  2.9  0.072  2017  SG   9.1  0.506  0.478  0.154   \n",
       "\n",
       "     ORB%  DRB%  TRB%  AST%  STL%  BLK%  TOV%  USG%  OWS  DWS  OBPM  DBPM  \\\n",
       "207   2.8   9.6   6.3  24.3   2.2   0.5  14.1  18.5  2.6  1.5   0.0  -0.4   \n",
       "208   5.8  20.8  13.3  14.3   1.3   1.1  15.2  24.6 -1.2  2.2  -1.3  -0.9   \n",
       "209   8.5  25.6  17.0  16.0   1.7   7.7  17.9  36.0  0.5  1.5   1.9   2.7   \n",
       "210   2.0  13.5   7.8  10.3   1.0   0.4  11.2  21.3  0.0  1.3  -0.6  -1.4   \n",
       "211  13.8  27.1  20.4  11.5   1.5   2.2  16.1  20.3  1.8  1.6   0.3  -0.5   \n",
       "212   2.6  10.7   6.7  14.0   1.4   1.1  12.6  21.6  0.6  0.7  -0.6  -1.4   \n",
       "213   5.8  16.1  10.8   5.2   1.8   3.2  13.2  19.7  0.3  1.5  -2.2  -0.1   \n",
       "214   3.8  14.4   9.1   7.2   1.3   1.1  12.5  18.1  0.2  1.3  -3.0  -0.8   \n",
       "215   1.8   9.2   5.3  23.2   1.8   0.7  13.9  19.6  0.8  1.0  -0.9  -0.3   \n",
       "216   5.2   9.2   7.2   8.8   1.2   0.7  10.2  12.3  1.2  1.7  -1.8  -0.1   \n",
       "\n",
       "     BPM  VORP     W     L   W/L%  \n",
       "207 -0.4   0.8  42.0  40.0  0.512  \n",
       "208 -2.3  -0.2  28.0  54.0  0.341  \n",
       "209  4.5   1.3  28.0  54.0  0.341  \n",
       "210 -2.0   0.0   NaN   NaN    NaN  \n",
       "211 -0.3   0.6  31.0  51.0  0.378  \n",
       "212 -2.0   0.0  40.0  42.0  0.488  \n",
       "213 -2.2  -0.1  24.0  58.0  0.293  \n",
       "214 -3.7  -0.6  53.0  29.0  0.646  \n",
       "215 -1.1   0.3   NaN   NaN    NaN  \n",
       "216 -1.9   0.0  41.0  41.0  0.500  "
      ]
     },
     "execution_count": 19,
     "metadata": {},
     "output_type": "execute_result"
    }
   ],
   "source": [
    "master_table[master_table['year'] == 2017]"
   ]
  },
  {
   "cell_type": "code",
   "execution_count": null,
   "metadata": {},
   "outputs": [],
   "source": []
  }
 ],
 "metadata": {
  "kernelspec": {
   "display_name": "base",
   "language": "python",
   "name": "python3"
  },
  "language_info": {
   "codemirror_mode": {
    "name": "ipython",
    "version": 3
   },
   "file_extension": ".py",
   "mimetype": "text/x-python",
   "name": "python",
   "nbconvert_exporter": "python",
   "pygments_lexer": "ipython3",
   "version": "3.9.12"
  }
 },
 "nbformat": 4,
 "nbformat_minor": 2
}
